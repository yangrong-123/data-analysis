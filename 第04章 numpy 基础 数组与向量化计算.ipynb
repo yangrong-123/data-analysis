{
 "cells": [
  {
   "cell_type": "code",
   "execution_count": 196,
   "metadata": {
    "scrolled": true
   },
   "outputs": [],
   "source": [
    "import numpy as np\n",
    "import pandas as pd\n",
    "import matplotlib.pyplot as plt"
   ]
  },
  {
   "cell_type": "markdown",
   "metadata": {},
   "source": [
    "# 4.1 numpy ndarray"
   ]
  },
  {
   "cell_type": "markdown",
   "metadata": {},
   "source": [
    "## 4.1.1 生成ndarray\n",
    "   "
   ]
  },
  {
   "cell_type": "markdown",
   "metadata": {},
   "source": [
    "## 4.1.2 ndarray的数据类型\n",
    "    "
   ]
  },
  {
   "cell_type": "markdown",
   "metadata": {},
   "source": [
    "## 4.1.3 numpy 数组运算"
   ]
  },
  {
   "cell_type": "code",
   "execution_count": 80,
   "metadata": {},
   "outputs": [],
   "source": [
    "data.reshape?"
   ]
  },
  {
   "cell_type": "code",
   "execution_count": 81,
   "metadata": {},
   "outputs": [],
   "source": [
    "data.astype?"
   ]
  },
  {
   "cell_type": "code",
   "execution_count": 82,
   "metadata": {
    "scrolled": true
   },
   "outputs": [],
   "source": [
    "data = np.random.randn(3,3)"
   ]
  },
  {
   "cell_type": "code",
   "execution_count": 83,
   "metadata": {},
   "outputs": [],
   "source": [
    "np.arange?"
   ]
  },
  {
   "cell_type": "code",
   "execution_count": 84,
   "metadata": {},
   "outputs": [],
   "source": [
    " np.eye?"
   ]
  },
  {
   "cell_type": "code",
   "execution_count": 85,
   "metadata": {},
   "outputs": [],
   "source": [
    "np.full?"
   ]
  },
  {
   "cell_type": "code",
   "execution_count": 86,
   "metadata": {},
   "outputs": [
    {
     "data": {
      "text/plain": [
       "array([[0., 0.],\n",
       "       [0., 0.]])"
      ]
     },
     "execution_count": 86,
     "metadata": {},
     "output_type": "execute_result"
    }
   ],
   "source": [
    "np.zeros((2,2))"
   ]
  },
  {
   "cell_type": "code",
   "execution_count": 87,
   "metadata": {},
   "outputs": [
    {
     "data": {
      "text/plain": [
       "array([[ 0.32388702, -1.10186087, -1.66605088],\n",
       "       [-0.09238615,  0.19721659, -1.06049721],\n",
       "       [ 0.60093444, -0.54091596, -0.15407831]])"
      ]
     },
     "execution_count": 87,
     "metadata": {},
     "output_type": "execute_result"
    }
   ],
   "source": [
    "data"
   ]
  },
  {
   "cell_type": "code",
   "execution_count": 88,
   "metadata": {
    "scrolled": false
   },
   "outputs": [
    {
     "data": {
      "text/plain": [
       "(3, 3)"
      ]
     },
     "execution_count": 88,
     "metadata": {},
     "output_type": "execute_result"
    },
    {
     "data": {
      "text/plain": [
       "dtype('float64')"
      ]
     },
     "execution_count": 88,
     "metadata": {},
     "output_type": "execute_result"
    },
    {
     "data": {
      "text/plain": [
       "array([6. , 7.5, 4. , 8. ])"
      ]
     },
     "execution_count": 88,
     "metadata": {},
     "output_type": "execute_result"
    },
    {
     "data": {
      "text/plain": [
       "1"
      ]
     },
     "execution_count": 88,
     "metadata": {},
     "output_type": "execute_result"
    },
    {
     "data": {
      "text/plain": [
       "array([1., 1., 1.])"
      ]
     },
     "execution_count": 88,
     "metadata": {},
     "output_type": "execute_result"
    }
   ],
   "source": [
    "data.shape\n",
    "\n",
    "data.dtype\n",
    "\n",
    "data1 = [6, 7.5, 4, 8]\n",
    "\n",
    "arr1 = np.array(data1)\n",
    "\n",
    "arr1\n",
    "\n",
    "arr1.ndim\n",
    "\n",
    "np.ones(3)"
   ]
  },
  {
   "cell_type": "code",
   "execution_count": 89,
   "metadata": {
    "scrolled": true
   },
   "outputs": [
    {
     "data": {
      "text/plain": [
       "dtype('float64')"
      ]
     },
     "execution_count": 89,
     "metadata": {},
     "output_type": "execute_result"
    }
   ],
   "source": [
    "data.dtype"
   ]
  },
  {
   "cell_type": "code",
   "execution_count": 90,
   "metadata": {
    "scrolled": true
   },
   "outputs": [],
   "source": [
    "data1 = [6, 7.5, 4, 8]"
   ]
  },
  {
   "cell_type": "code",
   "execution_count": 91,
   "metadata": {
    "scrolled": true
   },
   "outputs": [],
   "source": [
    "arr1 = np.array(data1)"
   ]
  },
  {
   "cell_type": "code",
   "execution_count": 92,
   "metadata": {
    "scrolled": true
   },
   "outputs": [
    {
     "data": {
      "text/plain": [
       "array([6. , 7.5, 4. , 8. ])"
      ]
     },
     "execution_count": 92,
     "metadata": {},
     "output_type": "execute_result"
    }
   ],
   "source": [
    "arr1"
   ]
  },
  {
   "cell_type": "code",
   "execution_count": 93,
   "metadata": {
    "scrolled": true
   },
   "outputs": [
    {
     "data": {
      "text/plain": [
       "1"
      ]
     },
     "execution_count": 93,
     "metadata": {},
     "output_type": "execute_result"
    }
   ],
   "source": [
    "arr1.ndim"
   ]
  },
  {
   "cell_type": "code",
   "execution_count": 94,
   "metadata": {
    "scrolled": true
   },
   "outputs": [
    {
     "data": {
      "text/plain": [
       "array([1., 1., 1.])"
      ]
     },
     "execution_count": 94,
     "metadata": {},
     "output_type": "execute_result"
    }
   ],
   "source": [
    "np.ones(3)"
   ]
  },
  {
   "cell_type": "code",
   "execution_count": 95,
   "metadata": {
    "scrolled": true
   },
   "outputs": [
    {
     "data": {
      "text/plain": [
       "array([[0., 0., 0.],\n",
       "       [0., 0., 0.],\n",
       "       [0., 0., 0.]])"
      ]
     },
     "execution_count": 95,
     "metadata": {},
     "output_type": "execute_result"
    }
   ],
   "source": [
    "np.zeros((3,3))"
   ]
  },
  {
   "cell_type": "code",
   "execution_count": 96,
   "metadata": {
    "scrolled": true
   },
   "outputs": [
    {
     "data": {
      "text/plain": [
       "array([[[1.20470877e-311, 3.16202013e-322],\n",
       "        [0.00000000e+000, 0.00000000e+000],\n",
       "        [0.00000000e+000, 1.39291047e+165]],\n",
       "\n",
       "       [[1.72586078e-047, 1.63199439e+185],\n",
       "        [9.59759669e-071, 3.88390102e-057],\n",
       "        [2.47247630e-056, 2.36155496e+180]]])"
      ]
     },
     "execution_count": 96,
     "metadata": {},
     "output_type": "execute_result"
    }
   ],
   "source": [
    "np.empty((2,3,2))"
   ]
  },
  {
   "cell_type": "code",
   "execution_count": 97,
   "metadata": {
    "scrolled": true
   },
   "outputs": [
    {
     "data": {
      "text/plain": [
       "dtype('int32')"
      ]
     },
     "execution_count": 97,
     "metadata": {},
     "output_type": "execute_result"
    }
   ],
   "source": [
    "np.arange(3,10,2).dtype"
   ]
  },
  {
   "cell_type": "code",
   "execution_count": 98,
   "metadata": {
    "scrolled": true
   },
   "outputs": [],
   "source": [
    "np.arange?"
   ]
  },
  {
   "cell_type": "code",
   "execution_count": 99,
   "metadata": {
    "scrolled": true
   },
   "outputs": [],
   "source": [
    "np.full?"
   ]
  },
  {
   "cell_type": "code",
   "execution_count": 100,
   "metadata": {
    "scrolled": true
   },
   "outputs": [
    {
     "data": {
      "text/plain": [
       "array([2, 2, 2])"
      ]
     },
     "execution_count": 100,
     "metadata": {},
     "output_type": "execute_result"
    }
   ],
   "source": [
    "np.full(3,2)"
   ]
  },
  {
   "cell_type": "code",
   "execution_count": 101,
   "metadata": {
    "scrolled": true
   },
   "outputs": [
    {
     "data": {
      "text/plain": [
       "array([[1, 1, 1, 1],\n",
       "       [1, 1, 1, 1]])"
      ]
     },
     "execution_count": 101,
     "metadata": {},
     "output_type": "execute_result"
    }
   ],
   "source": [
    "np.full((2,4),1)"
   ]
  },
  {
   "cell_type": "code",
   "execution_count": 102,
   "metadata": {
    "scrolled": true
   },
   "outputs": [],
   "source": [
    "arr1 = np.array([1,2,3], dtype=np.float64)"
   ]
  },
  {
   "cell_type": "code",
   "execution_count": 103,
   "metadata": {
    "scrolled": true
   },
   "outputs": [
    {
     "data": {
      "text/plain": [
       "array([1., 2., 3.])"
      ]
     },
     "execution_count": 103,
     "metadata": {},
     "output_type": "execute_result"
    }
   ],
   "source": [
    "arr1"
   ]
  },
  {
   "cell_type": "code",
   "execution_count": 104,
   "metadata": {
    "scrolled": true
   },
   "outputs": [
    {
     "data": {
      "text/plain": [
       "array([1., 2., 3.])"
      ]
     },
     "execution_count": 104,
     "metadata": {},
     "output_type": "execute_result"
    }
   ],
   "source": [
    "arr1"
   ]
  },
  {
   "cell_type": "code",
   "execution_count": 105,
   "metadata": {
    "scrolled": true
   },
   "outputs": [],
   "source": [
    "arr2 = arr1.astype(np.int32)"
   ]
  },
  {
   "cell_type": "code",
   "execution_count": 106,
   "metadata": {
    "scrolled": true
   },
   "outputs": [
    {
     "data": {
      "text/plain": [
       "array([1, 2, 3])"
      ]
     },
     "execution_count": 106,
     "metadata": {},
     "output_type": "execute_result"
    }
   ],
   "source": [
    "arr2"
   ]
  },
  {
   "cell_type": "markdown",
   "metadata": {},
   "source": [
    "* 4.1.3 numpy 数组算术"
   ]
  },
  {
   "cell_type": "code",
   "execution_count": 107,
   "metadata": {
    "scrolled": true
   },
   "outputs": [
    {
     "name": "stdout",
     "output_type": "stream",
     "text": [
      "arr\t arr1\t arr2\t arr2d\t arr3d\t arr_slice\t data\t data1\t mask\t \n",
      "names\t np\t pd\t \n"
     ]
    }
   ],
   "source": [
    "%who"
   ]
  },
  {
   "cell_type": "code",
   "execution_count": 108,
   "metadata": {
    "scrolled": true
   },
   "outputs": [],
   "source": [
    "arr = np.array([[1,2,3],[4,5,6]], dtype=np.float)"
   ]
  },
  {
   "cell_type": "code",
   "execution_count": 109,
   "metadata": {
    "scrolled": true
   },
   "outputs": [
    {
     "data": {
      "text/plain": [
       "array([[1., 2., 3.],\n",
       "       [4., 5., 6.]])"
      ]
     },
     "execution_count": 109,
     "metadata": {},
     "output_type": "execute_result"
    }
   ],
   "source": [
    "arr"
   ]
  },
  {
   "cell_type": "code",
   "execution_count": 110,
   "metadata": {
    "scrolled": true
   },
   "outputs": [
    {
     "data": {
      "text/plain": [
       "array([[ 1.,  4.,  9.],\n",
       "       [16., 25., 36.]])"
      ]
     },
     "execution_count": 110,
     "metadata": {},
     "output_type": "execute_result"
    }
   ],
   "source": [
    "arr*arr "
   ]
  },
  {
   "cell_type": "code",
   "execution_count": 111,
   "metadata": {
    "scrolled": true
   },
   "outputs": [],
   "source": [
    "arr2 = np.array([[0,4,1],[7,2,12]], dtype=np.float)"
   ]
  },
  {
   "cell_type": "code",
   "execution_count": 112,
   "metadata": {
    "scrolled": true
   },
   "outputs": [
    {
     "data": {
      "text/plain": [
       "array([[ 0.,  4.,  1.],\n",
       "       [ 7.,  2., 12.]])"
      ]
     },
     "execution_count": 112,
     "metadata": {},
     "output_type": "execute_result"
    }
   ],
   "source": [
    "arr2"
   ]
  },
  {
   "cell_type": "code",
   "execution_count": 113,
   "metadata": {
    "scrolled": true
   },
   "outputs": [
    {
     "data": {
      "text/plain": [
       "array([[ True, False,  True],\n",
       "       [False,  True, False]])"
      ]
     },
     "execution_count": 113,
     "metadata": {},
     "output_type": "execute_result"
    }
   ],
   "source": [
    "arr>arr2"
   ]
  },
  {
   "cell_type": "code",
   "execution_count": 114,
   "metadata": {
    "scrolled": true
   },
   "outputs": [],
   "source": [
    "arr1 = np.array([4,5,6])"
   ]
  },
  {
   "cell_type": "code",
   "execution_count": 115,
   "metadata": {
    "scrolled": false
   },
   "outputs": [
    {
     "data": {
      "text/plain": [
       "array([[ True,  True,  True],\n",
       "       [False,  True, False]])"
      ]
     },
     "execution_count": 115,
     "metadata": {},
     "output_type": "execute_result"
    }
   ],
   "source": [
    "arr1>arr2"
   ]
  },
  {
   "cell_type": "markdown",
   "metadata": {},
   "source": [
    "## 4.1.4 基础索引与切片"
   ]
  },
  {
   "cell_type": "code",
   "execution_count": 116,
   "metadata": {
    "scrolled": true
   },
   "outputs": [],
   "source": [
    "arr = np.arange(10)"
   ]
  },
  {
   "cell_type": "code",
   "execution_count": 117,
   "metadata": {
    "scrolled": true
   },
   "outputs": [
    {
     "data": {
      "text/plain": [
       "array([0, 1, 2, 3, 4, 5, 6, 7, 8, 9])"
      ]
     },
     "execution_count": 117,
     "metadata": {},
     "output_type": "execute_result"
    }
   ],
   "source": [
    "arr"
   ]
  },
  {
   "cell_type": "code",
   "execution_count": 118,
   "metadata": {
    "scrolled": true
   },
   "outputs": [
    {
     "data": {
      "text/plain": [
       "3"
      ]
     },
     "execution_count": 118,
     "metadata": {},
     "output_type": "execute_result"
    }
   ],
   "source": [
    "arr[3]"
   ]
  },
  {
   "cell_type": "code",
   "execution_count": 119,
   "metadata": {
    "scrolled": true
   },
   "outputs": [
    {
     "data": {
      "text/plain": [
       "array([1, 2, 3, 4])"
      ]
     },
     "execution_count": 119,
     "metadata": {},
     "output_type": "execute_result"
    }
   ],
   "source": [
    "arr[1:5]"
   ]
  },
  {
   "cell_type": "code",
   "execution_count": 120,
   "metadata": {
    "scrolled": true
   },
   "outputs": [
    {
     "data": {
      "text/plain": [
       "array([[1, 2, 3],\n",
       "       [4, 5, 6],\n",
       "       [7, 8, 9]])"
      ]
     },
     "execution_count": 120,
     "metadata": {},
     "output_type": "execute_result"
    }
   ],
   "source": [
    "arr2d = np.array([[1,2,3],[4,5,6],[7,8,9]])\n",
    "arr2d"
   ]
  },
  {
   "cell_type": "code",
   "execution_count": 121,
   "metadata": {
    "scrolled": true
   },
   "outputs": [
    {
     "data": {
      "text/plain": [
       "array([4, 5, 6])"
      ]
     },
     "execution_count": 121,
     "metadata": {},
     "output_type": "execute_result"
    }
   ],
   "source": [
    "arr2d[1]"
   ]
  },
  {
   "cell_type": "code",
   "execution_count": 122,
   "metadata": {
    "scrolled": true
   },
   "outputs": [
    {
     "data": {
      "text/plain": [
       "array([7, 8, 9])"
      ]
     },
     "execution_count": 122,
     "metadata": {},
     "output_type": "execute_result"
    }
   ],
   "source": [
    "arr2d[2]"
   ]
  },
  {
   "cell_type": "code",
   "execution_count": 123,
   "metadata": {
    "scrolled": true
   },
   "outputs": [
    {
     "data": {
      "text/plain": [
       "8"
      ]
     },
     "execution_count": 123,
     "metadata": {},
     "output_type": "execute_result"
    }
   ],
   "source": [
    "arr2d[2,1]"
   ]
  },
  {
   "cell_type": "code",
   "execution_count": 124,
   "metadata": {
    "scrolled": true
   },
   "outputs": [],
   "source": [
    "arr3d = np.array([\n",
    "    [[1,2,3],[4,5,6]],\n",
    "    [[7,8,9],[10,11,12]]\n",
    "                 ])"
   ]
  },
  {
   "cell_type": "raw",
   "metadata": {},
   "source": []
  },
  {
   "cell_type": "code",
   "execution_count": 125,
   "metadata": {
    "scrolled": true
   },
   "outputs": [
    {
     "data": {
      "text/plain": [
       "array([[[ 1,  2,  3],\n",
       "        [ 4,  5,  6]],\n",
       "\n",
       "       [[ 7,  8,  9],\n",
       "        [10, 11, 12]]])"
      ]
     },
     "execution_count": 125,
     "metadata": {},
     "output_type": "execute_result"
    }
   ],
   "source": [
    "arr3d"
   ]
  },
  {
   "cell_type": "code",
   "execution_count": 126,
   "metadata": {
    "scrolled": true
   },
   "outputs": [
    {
     "data": {
      "text/plain": [
       "array([[1, 2, 3],\n",
       "       [4, 5, 6]])"
      ]
     },
     "execution_count": 126,
     "metadata": {},
     "output_type": "execute_result"
    }
   ],
   "source": [
    "arr3d[0]"
   ]
  },
  {
   "cell_type": "code",
   "execution_count": 127,
   "metadata": {
    "scrolled": true
   },
   "outputs": [
    {
     "data": {
      "text/plain": [
       "array([7, 8, 9])"
      ]
     },
     "execution_count": 127,
     "metadata": {},
     "output_type": "execute_result"
    }
   ],
   "source": [
    "arr3d[1,0]"
   ]
  },
  {
   "cell_type": "code",
   "execution_count": 128,
   "metadata": {
    "scrolled": true
   },
   "outputs": [
    {
     "data": {
      "text/plain": [
       "9"
      ]
     },
     "execution_count": 128,
     "metadata": {},
     "output_type": "execute_result"
    }
   ],
   "source": [
    "arr3d[1,0,2]"
   ]
  },
  {
   "cell_type": "code",
   "execution_count": 129,
   "metadata": {
    "scrolled": true
   },
   "outputs": [],
   "source": [
    "arr_slice = arr3d[0]"
   ]
  },
  {
   "cell_type": "code",
   "execution_count": 130,
   "metadata": {
    "scrolled": true
   },
   "outputs": [
    {
     "data": {
      "text/plain": [
       "array([[1, 2, 3],\n",
       "       [4, 5, 6]])"
      ]
     },
     "execution_count": 130,
     "metadata": {},
     "output_type": "execute_result"
    }
   ],
   "source": [
    "arr_slice"
   ]
  },
  {
   "cell_type": "code",
   "execution_count": 131,
   "metadata": {
    "scrolled": true
   },
   "outputs": [],
   "source": [
    "arr_slice[:] = 0"
   ]
  },
  {
   "cell_type": "code",
   "execution_count": 132,
   "metadata": {
    "scrolled": true
   },
   "outputs": [
    {
     "data": {
      "text/plain": [
       "array([[[ 0,  0,  0],\n",
       "        [ 0,  0,  0]],\n",
       "\n",
       "       [[ 7,  8,  9],\n",
       "        [10, 11, 12]]])"
      ]
     },
     "execution_count": 132,
     "metadata": {},
     "output_type": "execute_result"
    }
   ],
   "source": [
    "arr3d"
   ]
  },
  {
   "cell_type": "code",
   "execution_count": 133,
   "metadata": {
    "scrolled": true
   },
   "outputs": [
    {
     "data": {
      "text/plain": [
       "array([[0, 0, 0],\n",
       "       [0, 0, 0]])"
      ]
     },
     "execution_count": 133,
     "metadata": {},
     "output_type": "execute_result"
    }
   ],
   "source": [
    "arr_slice"
   ]
  },
  {
   "cell_type": "code",
   "execution_count": 134,
   "metadata": {
    "scrolled": true
   },
   "outputs": [],
   "source": [
    "arr_slice = arr3d[1].copy()"
   ]
  },
  {
   "cell_type": "code",
   "execution_count": 135,
   "metadata": {
    "scrolled": true
   },
   "outputs": [],
   "source": [
    "arr_slice[:] =1 "
   ]
  },
  {
   "cell_type": "code",
   "execution_count": 136,
   "metadata": {
    "scrolled": true
   },
   "outputs": [
    {
     "data": {
      "text/plain": [
       "array([[1, 1, 1],\n",
       "       [1, 1, 1]])"
      ]
     },
     "execution_count": 136,
     "metadata": {},
     "output_type": "execute_result"
    }
   ],
   "source": [
    "arr_slice"
   ]
  },
  {
   "cell_type": "code",
   "execution_count": 137,
   "metadata": {
    "scrolled": true
   },
   "outputs": [
    {
     "data": {
      "text/plain": [
       "array([[[ 0,  0,  0],\n",
       "        [ 0,  0,  0]],\n",
       "\n",
       "       [[ 7,  8,  9],\n",
       "        [10, 11, 12]]])"
      ]
     },
     "execution_count": 137,
     "metadata": {},
     "output_type": "execute_result"
    }
   ],
   "source": [
    "arr3d"
   ]
  },
  {
   "cell_type": "markdown",
   "metadata": {},
   "source": [
    "### 4.1.4.1 数组的切片索引"
   ]
  },
  {
   "cell_type": "code",
   "execution_count": 138,
   "metadata": {
    "scrolled": true
   },
   "outputs": [
    {
     "data": {
      "text/plain": [
       "array([[[ 0,  0,  0],\n",
       "        [ 0,  0,  0]],\n",
       "\n",
       "       [[ 7,  8,  9],\n",
       "        [10, 11, 12]]])"
      ]
     },
     "execution_count": 138,
     "metadata": {},
     "output_type": "execute_result"
    }
   ],
   "source": [
    "arr3d"
   ]
  },
  {
   "cell_type": "code",
   "execution_count": 139,
   "metadata": {
    "scrolled": true
   },
   "outputs": [
    {
     "data": {
      "text/plain": [
       "array([[1, 2, 3],\n",
       "       [4, 5, 6],\n",
       "       [7, 8, 9]])"
      ]
     },
     "execution_count": 139,
     "metadata": {},
     "output_type": "execute_result"
    }
   ],
   "source": [
    "arr2d"
   ]
  },
  {
   "cell_type": "code",
   "execution_count": 140,
   "metadata": {
    "scrolled": true
   },
   "outputs": [
    {
     "data": {
      "text/plain": [
       "array([[1, 2],\n",
       "       [4, 5]])"
      ]
     },
     "execution_count": 140,
     "metadata": {},
     "output_type": "execute_result"
    }
   ],
   "source": [
    "arr2d[0:2, 0:2]"
   ]
  },
  {
   "cell_type": "code",
   "execution_count": 141,
   "metadata": {
    "scrolled": true
   },
   "outputs": [
    {
     "data": {
      "text/plain": [
       "array([3, 6])"
      ]
     },
     "execution_count": 141,
     "metadata": {},
     "output_type": "execute_result"
    }
   ],
   "source": [
    "arr2d[:2, 2]"
   ]
  },
  {
   "cell_type": "markdown",
   "metadata": {},
   "source": [
    "## 4.1.5 布尔索引"
   ]
  },
  {
   "cell_type": "code",
   "execution_count": 142,
   "metadata": {
    "scrolled": true
   },
   "outputs": [],
   "source": [
    "names = np.array('bob joe will bob will joe joe'.split())"
   ]
  },
  {
   "cell_type": "code",
   "execution_count": 143,
   "metadata": {
    "scrolled": true
   },
   "outputs": [
    {
     "data": {
      "text/plain": [
       "array(['bob', 'joe', 'will', 'bob', 'will', 'joe', 'joe'], dtype='<U4')"
      ]
     },
     "execution_count": 143,
     "metadata": {},
     "output_type": "execute_result"
    }
   ],
   "source": [
    "names"
   ]
  },
  {
   "cell_type": "code",
   "execution_count": 144,
   "metadata": {
    "scrolled": true
   },
   "outputs": [],
   "source": [
    "data = np.random.randn(7,4)"
   ]
  },
  {
   "cell_type": "code",
   "execution_count": 145,
   "metadata": {
    "scrolled": true
   },
   "outputs": [
    {
     "data": {
      "text/plain": [
       "array([[ 0.20977387,  0.08431554, -0.5792794 , -0.37890722],\n",
       "       [ 1.02664608, -0.20800904,  1.23269454,  1.04307153],\n",
       "       [-0.36876378, -0.41170282, -0.07606116,  1.98049496],\n",
       "       [-0.19511667, -0.05696542,  1.2097046 , -1.79748582],\n",
       "       [ 0.18447609,  0.88822347, -0.17994929, -0.27843477],\n",
       "       [-1.0588305 , -0.25065843, -0.63001985, -2.00001964],\n",
       "       [ 0.60386313, -0.38960082, -1.31792801,  0.20045578]])"
      ]
     },
     "execution_count": 145,
     "metadata": {},
     "output_type": "execute_result"
    }
   ],
   "source": [
    "data"
   ]
  },
  {
   "cell_type": "code",
   "execution_count": 146,
   "metadata": {
    "scrolled": true
   },
   "outputs": [
    {
     "data": {
      "text/plain": [
       "array([[ 0.20977387,  0.08431554, -0.5792794 , -0.37890722],\n",
       "       [-0.19511667, -0.05696542,  1.2097046 , -1.79748582]])"
      ]
     },
     "execution_count": 146,
     "metadata": {},
     "output_type": "execute_result"
    }
   ],
   "source": [
    "data[names=='bob']"
   ]
  },
  {
   "cell_type": "code",
   "execution_count": 147,
   "metadata": {
    "scrolled": true
   },
   "outputs": [
    {
     "data": {
      "text/plain": [
       "array([ True, False, False,  True, False, False, False])"
      ]
     },
     "execution_count": 147,
     "metadata": {},
     "output_type": "execute_result"
    }
   ],
   "source": [
    "names =='bob'"
   ]
  },
  {
   "cell_type": "code",
   "execution_count": 148,
   "metadata": {
    "scrolled": true
   },
   "outputs": [
    {
     "data": {
      "text/plain": [
       "array([[ 0.20977387,  0.08431554, -0.5792794 , -0.37890722],\n",
       "       [-0.19511667, -0.05696542,  1.2097046 , -1.79748582]])"
      ]
     },
     "execution_count": 148,
     "metadata": {},
     "output_type": "execute_result"
    }
   ],
   "source": [
    "data[names == 'bob']"
   ]
  },
  {
   "cell_type": "code",
   "execution_count": 149,
   "metadata": {
    "scrolled": true
   },
   "outputs": [
    {
     "data": {
      "text/plain": [
       "array([[ 0.20977387,  0.08431554],\n",
       "       [-0.19511667, -0.05696542]])"
      ]
     },
     "execution_count": 149,
     "metadata": {},
     "output_type": "execute_result"
    }
   ],
   "source": [
    "data[names=='bob',:2]"
   ]
  },
  {
   "cell_type": "code",
   "execution_count": 150,
   "metadata": {
    "scrolled": true
   },
   "outputs": [
    {
     "data": {
      "text/plain": [
       "array([[ 1.02664608, -0.20800904,  1.23269454,  1.04307153],\n",
       "       [-0.36876378, -0.41170282, -0.07606116,  1.98049496],\n",
       "       [ 0.18447609,  0.88822347, -0.17994929, -0.27843477],\n",
       "       [-1.0588305 , -0.25065843, -0.63001985, -2.00001964],\n",
       "       [ 0.60386313, -0.38960082, -1.31792801,  0.20045578]])"
      ]
     },
     "execution_count": 150,
     "metadata": {},
     "output_type": "execute_result"
    }
   ],
   "source": [
    "data[~(names=='bob')]"
   ]
  },
  {
   "cell_type": "code",
   "execution_count": 151,
   "metadata": {
    "scrolled": true
   },
   "outputs": [],
   "source": [
    "mask = (names=='bob')|(names=='will')"
   ]
  },
  {
   "cell_type": "code",
   "execution_count": 152,
   "metadata": {
    "scrolled": true
   },
   "outputs": [
    {
     "data": {
      "text/plain": [
       "array([ True, False,  True,  True,  True, False, False])"
      ]
     },
     "execution_count": 152,
     "metadata": {},
     "output_type": "execute_result"
    }
   ],
   "source": [
    "mask"
   ]
  },
  {
   "cell_type": "code",
   "execution_count": 153,
   "metadata": {
    "scrolled": true
   },
   "outputs": [
    {
     "data": {
      "text/plain": [
       "array(['bob', 'joe', 'will', 'bob', 'will', 'joe', 'joe'], dtype='<U4')"
      ]
     },
     "execution_count": 153,
     "metadata": {},
     "output_type": "execute_result"
    }
   ],
   "source": [
    "names"
   ]
  },
  {
   "cell_type": "code",
   "execution_count": 154,
   "metadata": {
    "scrolled": true
   },
   "outputs": [
    {
     "data": {
      "text/plain": [
       "array([[ 0.20977387,  0.08431554, -0.5792794 , -0.37890722],\n",
       "       [-0.36876378, -0.41170282, -0.07606116,  1.98049496],\n",
       "       [-0.19511667, -0.05696542,  1.2097046 , -1.79748582],\n",
       "       [ 0.18447609,  0.88822347, -0.17994929, -0.27843477]])"
      ]
     },
     "execution_count": 154,
     "metadata": {},
     "output_type": "execute_result"
    }
   ],
   "source": [
    "data[mask]"
   ]
  },
  {
   "cell_type": "code",
   "execution_count": 155,
   "metadata": {
    "scrolled": true
   },
   "outputs": [
    {
     "ename": "TypeError",
     "evalue": "'numpy.ndarray' object is not callable",
     "output_type": "error",
     "traceback": [
      "\u001b[1;31m---------------------------------------------------------------------------\u001b[0m",
      "\u001b[1;31mTypeError\u001b[0m                                 Traceback (most recent call last)",
      "\u001b[1;32m<ipython-input-155-fa1785ac706e>\u001b[0m in \u001b[0;36m<module>\u001b[1;34m\u001b[0m\n\u001b[1;32m----> 1\u001b[1;33m \u001b[0mdata\u001b[0m\u001b[1;33m(\u001b[0m\u001b[1;33m~\u001b[0m\u001b[0mmask\u001b[0m\u001b[1;33m)\u001b[0m\u001b[1;33m\u001b[0m\u001b[1;33m\u001b[0m\u001b[0m\n\u001b[0m",
      "\u001b[1;31mTypeError\u001b[0m: 'numpy.ndarray' object is not callable"
     ]
    }
   ],
   "source": [
    "data(~mask)"
   ]
  },
  {
   "cell_type": "code",
   "execution_count": null,
   "metadata": {
    "scrolled": true
   },
   "outputs": [],
   "source": [
    "mask"
   ]
  },
  {
   "cell_type": "code",
   "execution_count": null,
   "metadata": {
    "scrolled": true
   },
   "outputs": [],
   "source": [
    "~mask"
   ]
  },
  {
   "cell_type": "code",
   "execution_count": null,
   "metadata": {
    "scrolled": true
   },
   "outputs": [],
   "source": [
    "data[~mask]"
   ]
  },
  {
   "cell_type": "code",
   "execution_count": null,
   "metadata": {
    "scrolled": true
   },
   "outputs": [],
   "source": [
    "# &==and |==or"
   ]
  },
  {
   "cell_type": "markdown",
   "metadata": {},
   "source": [
    "## 4.1.6 神奇索引"
   ]
  },
  {
   "cell_type": "code",
   "execution_count": null,
   "metadata": {
    "code_folding": [],
    "scrolled": true
   },
   "outputs": [],
   "source": [
    "# 使用整数进行数据索引"
   ]
  },
  {
   "cell_type": "code",
   "execution_count": null,
   "metadata": {
    "scrolled": true
   },
   "outputs": [],
   "source": [
    "arr = np.empty((8,4))"
   ]
  },
  {
   "cell_type": "code",
   "execution_count": null,
   "metadata": {
    "scrolled": true
   },
   "outputs": [],
   "source": [
    "arr"
   ]
  },
  {
   "cell_type": "code",
   "execution_count": null,
   "metadata": {
    "scrolled": true
   },
   "outputs": [],
   "source": [
    "for i in range(8):\n",
    "    arr[i] = i"
   ]
  },
  {
   "cell_type": "code",
   "execution_count": null,
   "metadata": {
    "scrolled": true
   },
   "outputs": [],
   "source": [
    "arr"
   ]
  },
  {
   "cell_type": "code",
   "execution_count": null,
   "metadata": {
    "scrolled": true
   },
   "outputs": [],
   "source": [
    "arr[[2,5,6,1]]"
   ]
  },
  {
   "cell_type": "code",
   "execution_count": null,
   "metadata": {
    "scrolled": true
   },
   "outputs": [],
   "source": [
    "arr1 = np.arange(32).reshape(8,4)"
   ]
  },
  {
   "cell_type": "code",
   "execution_count": null,
   "metadata": {
    "scrolled": true
   },
   "outputs": [],
   "source": [
    "arr1"
   ]
  },
  {
   "cell_type": "code",
   "execution_count": null,
   "metadata": {
    "scrolled": true
   },
   "outputs": [],
   "source": [
    "arr"
   ]
  },
  {
   "cell_type": "code",
   "execution_count": null,
   "metadata": {
    "scrolled": true
   },
   "outputs": [],
   "source": [
    "arr[[1,6,3],[0,2,1]]"
   ]
  },
  {
   "cell_type": "code",
   "execution_count": null,
   "metadata": {
    "scrolled": true
   },
   "outputs": [],
   "source": [
    "arr[[1,6,3]][:, [0,2,1]]"
   ]
  },
  {
   "cell_type": "markdown",
   "metadata": {},
   "source": [
    "## 4.1.7 数组的转置与换轴"
   ]
  },
  {
   "cell_type": "code",
   "execution_count": null,
   "metadata": {},
   "outputs": [],
   "source": [
    "arr = np.arange(15).reshape(3,5)"
   ]
  },
  {
   "cell_type": "code",
   "execution_count": null,
   "metadata": {
    "scrolled": true
   },
   "outputs": [],
   "source": [
    "arr"
   ]
  },
  {
   "cell_type": "code",
   "execution_count": null,
   "metadata": {},
   "outputs": [],
   "source": [
    "arr = arr.astype(np.float)"
   ]
  },
  {
   "cell_type": "code",
   "execution_count": null,
   "metadata": {
    "scrolled": true
   },
   "outputs": [],
   "source": [
    "arr.T"
   ]
  },
  {
   "cell_type": "code",
   "execution_count": null,
   "metadata": {
    "scrolled": true
   },
   "outputs": [],
   "source": [
    "np.dot(arr, arr.T)"
   ]
  },
  {
   "cell_type": "code",
   "execution_count": null,
   "metadata": {
    "scrolled": true
   },
   "outputs": [],
   "source": [
    "arr = np.arange(16).reshape((2,2,4))"
   ]
  },
  {
   "cell_type": "code",
   "execution_count": null,
   "metadata": {
    "scrolled": true
   },
   "outputs": [],
   "source": [
    "arr"
   ]
  },
  {
   "cell_type": "code",
   "execution_count": null,
   "metadata": {
    "scrolled": true
   },
   "outputs": [],
   "source": [
    "arr.T"
   ]
  },
  {
   "cell_type": "code",
   "execution_count": null,
   "metadata": {
    "scrolled": true
   },
   "outputs": [],
   "source": [
    "arr.transpose(1,0,2)"
   ]
  },
  {
   "cell_type": "code",
   "execution_count": null,
   "metadata": {
    "scrolled": true
   },
   "outputs": [],
   "source": [
    "arr"
   ]
  },
  {
   "cell_type": "code",
   "execution_count": null,
   "metadata": {
    "scrolled": true
   },
   "outputs": [],
   "source": [
    "arr.swapaxes(1,2)"
   ]
  },
  {
   "cell_type": "code",
   "execution_count": null,
   "metadata": {
    "scrolled": true
   },
   "outputs": [],
   "source": [
    "arr      "
   ]
  },
  {
   "cell_type": "markdown",
   "metadata": {},
   "source": [
    "# 4.2 通用函数：快速的逐元素数组函数"
   ]
  },
  {
   "cell_type": "code",
   "execution_count": null,
   "metadata": {
    "scrolled": true
   },
   "outputs": [],
   "source": [
    "# 一元通用函数，二元通用函数"
   ]
  },
  {
   "cell_type": "code",
   "execution_count": null,
   "metadata": {
    "scrolled": true
   },
   "outputs": [],
   "source": [
    "arr = np.arange(10)"
   ]
  },
  {
   "cell_type": "code",
   "execution_count": null,
   "metadata": {
    "scrolled": true
   },
   "outputs": [],
   "source": [
    "np.sqrt(arr)"
   ]
  },
  {
   "cell_type": "code",
   "execution_count": null,
   "metadata": {
    "scrolled": true
   },
   "outputs": [],
   "source": [
    "arr"
   ]
  },
  {
   "cell_type": "code",
   "execution_count": null,
   "metadata": {
    "scrolled": true
   },
   "outputs": [],
   "source": [
    "np.exp(arr)"
   ]
  },
  {
   "cell_type": "code",
   "execution_count": null,
   "metadata": {
    "scrolled": true
   },
   "outputs": [],
   "source": [
    "x = np.random.randn(10)"
   ]
  },
  {
   "cell_type": "code",
   "execution_count": null,
   "metadata": {
    "scrolled": true
   },
   "outputs": [],
   "source": [
    "y = np.random.randn(10)"
   ]
  },
  {
   "cell_type": "code",
   "execution_count": null,
   "metadata": {
    "scrolled": true
   },
   "outputs": [],
   "source": [
    "x"
   ]
  },
  {
   "cell_type": "code",
   "execution_count": null,
   "metadata": {
    "scrolled": true
   },
   "outputs": [],
   "source": [
    "y"
   ]
  },
  {
   "cell_type": "code",
   "execution_count": null,
   "metadata": {
    "scrolled": true
   },
   "outputs": [],
   "source": [
    "np.maximum(x, y)"
   ]
  },
  {
   "cell_type": "code",
   "execution_count": null,
   "metadata": {
    "scrolled": true
   },
   "outputs": [],
   "source": [
    "arr = np.random.randn(5)"
   ]
  },
  {
   "cell_type": "code",
   "execution_count": null,
   "metadata": {
    "scrolled": true
   },
   "outputs": [],
   "source": [
    "arr"
   ]
  },
  {
   "cell_type": "code",
   "execution_count": null,
   "metadata": {
    "scrolled": true
   },
   "outputs": [],
   "source": [
    "remainder, whole_part = np.modf(arr)"
   ]
  },
  {
   "cell_type": "code",
   "execution_count": null,
   "metadata": {
    "scrolled": true
   },
   "outputs": [],
   "source": [
    "remainder"
   ]
  },
  {
   "cell_type": "code",
   "execution_count": null,
   "metadata": {
    "scrolled": true
   },
   "outputs": [],
   "source": [
    "whole_part"
   ]
  },
  {
   "cell_type": "code",
   "execution_count": null,
   "metadata": {},
   "outputs": [],
   "source": [
    "np.fabs(arr)"
   ]
  },
  {
   "cell_type": "code",
   "execution_count": null,
   "metadata": {
    "scrolled": false
   },
   "outputs": [],
   "source": [
    "arr"
   ]
  },
  {
   "cell_type": "code",
   "execution_count": null,
   "metadata": {
    "scrolled": true
   },
   "outputs": [],
   "source": [
    "np.sqrt(arr)"
   ]
  },
  {
   "cell_type": "code",
   "execution_count": null,
   "metadata": {
    "scrolled": true
   },
   "outputs": [],
   "source": [
    "np.sqrt(arr,out = arr)"
   ]
  },
  {
   "cell_type": "code",
   "execution_count": null,
   "metadata": {
    "scrolled": true
   },
   "outputs": [],
   "source": [
    "arr"
   ]
  },
  {
   "cell_type": "code",
   "execution_count": null,
   "metadata": {
    "scrolled": true
   },
   "outputs": [],
   "source": [
    "np.sign(arr)"
   ]
  },
  {
   "cell_type": "code",
   "execution_count": null,
   "metadata": {
    "scrolled": true
   },
   "outputs": [],
   "source": [
    "np.array([1,2,3])"
   ]
  },
  {
   "cell_type": "code",
   "execution_count": null,
   "metadata": {
    "scrolled": true
   },
   "outputs": [],
   "source": [
    "np.log(2.718)"
   ]
  },
  {
   "cell_type": "code",
   "execution_count": null,
   "metadata": {
    "scrolled": true
   },
   "outputs": [],
   "source": [
    "np.log(3)"
   ]
  },
  {
   "cell_type": "markdown",
   "metadata": {},
   "source": [
    "# 4.3 使用数组进行面向数组编程"
   ]
  },
  {
   "cell_type": "code",
   "execution_count": null,
   "metadata": {
    "scrolled": true
   },
   "outputs": [],
   "source": [
    "points = np.arange(-5,5,1)"
   ]
  },
  {
   "cell_type": "code",
   "execution_count": null,
   "metadata": {
    "scrolled": true
   },
   "outputs": [],
   "source": [
    "points"
   ]
  },
  {
   "cell_type": "code",
   "execution_count": null,
   "metadata": {
    "scrolled": true
   },
   "outputs": [],
   "source": [
    "np.meshgrid(points, points)"
   ]
  },
  {
   "cell_type": "code",
   "execution_count": null,
   "metadata": {
    "scrolled": true
   },
   "outputs": [],
   "source": [
    "np.meshgrid?"
   ]
  },
  {
   "cell_type": "code",
   "execution_count": null,
   "metadata": {
    "scrolled": true
   },
   "outputs": [],
   "source": [
    "x, y = np.meshgrid(points, points)"
   ]
  },
  {
   "cell_type": "code",
   "execution_count": null,
   "metadata": {
    "scrolled": true
   },
   "outputs": [],
   "source": [
    "x"
   ]
  },
  {
   "cell_type": "code",
   "execution_count": null,
   "metadata": {
    "scrolled": true
   },
   "outputs": [],
   "source": [
    "y"
   ]
  },
  {
   "cell_type": "code",
   "execution_count": null,
   "metadata": {
    "scrolled": true
   },
   "outputs": [],
   "source": [
    "z = np.sqrt(x**2 + np.power(y,2))"
   ]
  },
  {
   "cell_type": "code",
   "execution_count": null,
   "metadata": {
    "scrolled": true
   },
   "outputs": [],
   "source": [
    "z"
   ]
  },
  {
   "cell_type": "code",
   "execution_count": null,
   "metadata": {
    "scrolled": true
   },
   "outputs": [],
   "source": [
    "import matplotlib.pyplot as plt"
   ]
  },
  {
   "cell_type": "code",
   "execution_count": null,
   "metadata": {
    "scrolled": true
   },
   "outputs": [],
   "source": [
    "plt.imshow(z,cmap=plt.cm.gray);plt.colorbar()"
   ]
  },
  {
   "cell_type": "markdown",
   "metadata": {},
   "source": [
    "## 4.3.1 将条件逻辑作为数组操作"
   ]
  },
  {
   "cell_type": "code",
   "execution_count": null,
   "metadata": {
    "scrolled": true
   },
   "outputs": [],
   "source": [
    "x = np.array([1.1,1.2,1.3,1.4,1.5])"
   ]
  },
  {
   "cell_type": "code",
   "execution_count": null,
   "metadata": {
    "scrolled": true
   },
   "outputs": [],
   "source": [
    "y = np.array([2.1,2.2,2.3,2.4,2.5])"
   ]
  },
  {
   "cell_type": "code",
   "execution_count": null,
   "metadata": {
    "scrolled": true
   },
   "outputs": [],
   "source": [
    "cond = np.array([True,False,True,True,False])"
   ]
  },
  {
   "cell_type": "code",
   "execution_count": null,
   "metadata": {
    "scrolled": true
   },
   "outputs": [],
   "source": [
    "z = [(a if c else b)for a,b,c in zip(x,y,cond)]"
   ]
  },
  {
   "cell_type": "code",
   "execution_count": null,
   "metadata": {
    "scrolled": true
   },
   "outputs": [],
   "source": [
    "z"
   ]
  },
  {
   "cell_type": "code",
   "execution_count": null,
   "metadata": {
    "scrolled": true
   },
   "outputs": [],
   "source": [
    "result = np.where(cond, x, y)"
   ]
  },
  {
   "cell_type": "code",
   "execution_count": null,
   "metadata": {
    "scrolled": true
   },
   "outputs": [],
   "source": [
    "result"
   ]
  },
  {
   "cell_type": "code",
   "execution_count": null,
   "metadata": {
    "scrolled": true
   },
   "outputs": [],
   "source": [
    "arr = np.empty((3,3))"
   ]
  },
  {
   "cell_type": "code",
   "execution_count": null,
   "metadata": {
    "scrolled": true
   },
   "outputs": [],
   "source": [
    "np.where(arr>0, 2,-2)"
   ]
  },
  {
   "cell_type": "code",
   "execution_count": null,
   "metadata": {
    "scrolled": true
   },
   "outputs": [],
   "source": [
    "np.where(arr>0,2,arr)"
   ]
  },
  {
   "cell_type": "code",
   "execution_count": null,
   "metadata": {
    "scrolled": true
   },
   "outputs": [],
   "source": [
    "arr = np.where(arr==0,3,arr)"
   ]
  },
  {
   "cell_type": "markdown",
   "metadata": {},
   "source": [
    "## 4.3.2 数学和统计方法"
   ]
  },
  {
   "cell_type": "code",
   "execution_count": null,
   "metadata": {
    "scrolled": true
   },
   "outputs": [],
   "source": [
    "arr.sum()"
   ]
  },
  {
   "cell_type": "code",
   "execution_count": null,
   "metadata": {
    "scrolled": true
   },
   "outputs": [],
   "source": [
    "arr.sum(axis=1)"
   ]
  },
  {
   "cell_type": "code",
   "execution_count": null,
   "metadata": {
    "scrolled": true
   },
   "outputs": [],
   "source": [
    "arr"
   ]
  },
  {
   "cell_type": "code",
   "execution_count": null,
   "metadata": {
    "scrolled": true
   },
   "outputs": [],
   "source": [
    "arr.sum(axis=0)"
   ]
  },
  {
   "cell_type": "code",
   "execution_count": null,
   "metadata": {
    "scrolled": true
   },
   "outputs": [],
   "source": [
    "arr.mean()"
   ]
  },
  {
   "cell_type": "code",
   "execution_count": null,
   "metadata": {
    "scrolled": true
   },
   "outputs": [],
   "source": [
    "arr2 = np.array([[1,2,3],[4,5,6]])"
   ]
  },
  {
   "cell_type": "code",
   "execution_count": null,
   "metadata": {
    "scrolled": true
   },
   "outputs": [],
   "source": [
    "arr2"
   ]
  },
  {
   "cell_type": "code",
   "execution_count": null,
   "metadata": {
    "scrolled": true
   },
   "outputs": [],
   "source": [
    "arr2.sum(axis=1)"
   ]
  },
  {
   "cell_type": "code",
   "execution_count": null,
   "metadata": {
    "scrolled": true
   },
   "outputs": [],
   "source": [
    "arr2.sum(axis=0)"
   ]
  },
  {
   "cell_type": "code",
   "execution_count": null,
   "metadata": {
    "scrolled": true
   },
   "outputs": [],
   "source": [
    "arr2.mean()"
   ]
  },
  {
   "cell_type": "code",
   "execution_count": null,
   "metadata": {
    "scrolled": true
   },
   "outputs": [],
   "source": [
    "arr2.mean(axis=0)"
   ]
  },
  {
   "cell_type": "code",
   "execution_count": null,
   "metadata": {
    "scrolled": true
   },
   "outputs": [],
   "source": [
    "arr"
   ]
  },
  {
   "cell_type": "code",
   "execution_count": null,
   "metadata": {
    "scrolled": true
   },
   "outputs": [],
   "source": [
    "arr"
   ]
  },
  {
   "cell_type": "code",
   "execution_count": null,
   "metadata": {
    "scrolled": true
   },
   "outputs": [],
   "source": [
    "arr2"
   ]
  },
  {
   "cell_type": "code",
   "execution_count": null,
   "metadata": {
    "scrolled": true
   },
   "outputs": [],
   "source": [
    "arr2 = np.array([[1,2,3],[4,5,6],[7,8,9]])"
   ]
  },
  {
   "cell_type": "code",
   "execution_count": null,
   "metadata": {
    "scrolled": true
   },
   "outputs": [],
   "source": [
    "arr2"
   ]
  },
  {
   "cell_type": "code",
   "execution_count": null,
   "metadata": {
    "scrolled": true
   },
   "outputs": [],
   "source": [
    "arr2.cumsum()"
   ]
  },
  {
   "cell_type": "code",
   "execution_count": null,
   "metadata": {
    "scrolled": true
   },
   "outputs": [],
   "source": [
    "arr2.cumsum(axis=0)"
   ]
  },
  {
   "cell_type": "code",
   "execution_count": null,
   "metadata": {
    "scrolled": true
   },
   "outputs": [],
   "source": [
    "arr2.cumsum(axis=1)"
   ]
  },
  {
   "cell_type": "code",
   "execution_count": null,
   "metadata": {
    "scrolled": true
   },
   "outputs": [],
   "source": [
    "arr3 = np.arange(1,10)"
   ]
  },
  {
   "cell_type": "code",
   "execution_count": null,
   "metadata": {
    "scrolled": true
   },
   "outputs": [],
   "source": [
    "arr3"
   ]
  },
  {
   "cell_type": "code",
   "execution_count": null,
   "metadata": {
    "scrolled": true
   },
   "outputs": [],
   "source": [
    "arr3.cumsum()"
   ]
  },
  {
   "cell_type": "code",
   "execution_count": null,
   "metadata": {
    "scrolled": true
   },
   "outputs": [],
   "source": [
    "arr3.cumprod()"
   ]
  },
  {
   "cell_type": "code",
   "execution_count": null,
   "metadata": {
    "scrolled": true
   },
   "outputs": [],
   "source": [
    "arr2.cumprod()"
   ]
  },
  {
   "cell_type": "code",
   "execution_count": null,
   "metadata": {
    "scrolled": true
   },
   "outputs": [],
   "source": [
    "# from IPython.core.interactiveshell import InteractiveShell\n",
    "# InteractiveShell.ast_node_interactivity = \"all\"\n",
    "arr2.cumprod()\n",
    "arr2.cumprod(axis=0)"
   ]
  },
  {
   "cell_type": "code",
   "execution_count": null,
   "metadata": {
    "scrolled": true
   },
   "outputs": [],
   "source": [
    "arr2"
   ]
  },
  {
   "cell_type": "markdown",
   "metadata": {},
   "source": [
    "## 4.3.3 布尔值数组的方法"
   ]
  },
  {
   "cell_type": "code",
   "execution_count": null,
   "metadata": {
    "scrolled": true
   },
   "outputs": [],
   "source": [
    "arr = np.random.randn(100)"
   ]
  },
  {
   "cell_type": "code",
   "execution_count": null,
   "metadata": {
    "scrolled": true
   },
   "outputs": [],
   "source": [
    "arr"
   ]
  },
  {
   "cell_type": "code",
   "execution_count": null,
   "metadata": {
    "scrolled": true
   },
   "outputs": [],
   "source": [
    "(arr>0).sum()"
   ]
  },
  {
   "cell_type": "code",
   "execution_count": null,
   "metadata": {
    "scrolled": true
   },
   "outputs": [],
   "source": [
    "bools = np.array([False, True, False])"
   ]
  },
  {
   "cell_type": "code",
   "execution_count": null,
   "metadata": {
    "scrolled": true
   },
   "outputs": [],
   "source": [
    "bools"
   ]
  },
  {
   "cell_type": "code",
   "execution_count": null,
   "metadata": {
    "scrolled": true
   },
   "outputs": [],
   "source": [
    "bools.any()"
   ]
  },
  {
   "cell_type": "code",
   "execution_count": null,
   "metadata": {
    "scrolled": true
   },
   "outputs": [],
   "source": [
    "bools.all()"
   ]
  },
  {
   "cell_type": "markdown",
   "metadata": {},
   "source": [
    "## 4.3.4 排序"
   ]
  },
  {
   "cell_type": "code",
   "execution_count": null,
   "metadata": {
    "scrolled": true
   },
   "outputs": [],
   "source": [
    "arr2 = np.random.randn(6)"
   ]
  },
  {
   "cell_type": "code",
   "execution_count": null,
   "metadata": {
    "scrolled": true
   },
   "outputs": [],
   "source": [
    "arr2"
   ]
  },
  {
   "cell_type": "code",
   "execution_count": null,
   "metadata": {
    "scrolled": true
   },
   "outputs": [],
   "source": [
    "np.sort(arr2)"
   ]
  },
  {
   "cell_type": "code",
   "execution_count": null,
   "metadata": {
    "scrolled": true
   },
   "outputs": [],
   "source": [
    "arr2"
   ]
  },
  {
   "cell_type": "code",
   "execution_count": null,
   "metadata": {
    "scrolled": true
   },
   "outputs": [],
   "source": [
    "arr2.sort()"
   ]
  },
  {
   "cell_type": "code",
   "execution_count": null,
   "metadata": {
    "scrolled": true
   },
   "outputs": [],
   "source": [
    "arr2"
   ]
  },
  {
   "cell_type": "code",
   "execution_count": null,
   "metadata": {
    "scrolled": true
   },
   "outputs": [],
   "source": [
    "large_arr = np.random.randn(100)"
   ]
  },
  {
   "cell_type": "code",
   "execution_count": null,
   "metadata": {
    "scrolled": true
   },
   "outputs": [],
   "source": [
    "large_arr.sort()"
   ]
  },
  {
   "cell_type": "code",
   "execution_count": null,
   "metadata": {
    "scrolled": true
   },
   "outputs": [],
   "source": [
    "large_arr[0.05*len(large_arr)]"
   ]
  },
  {
   "cell_type": "code",
   "execution_count": null,
   "metadata": {
    "scrolled": true
   },
   "outputs": [],
   "source": [
    "len(large_arr)"
   ]
  },
  {
   "cell_type": "code",
   "execution_count": null,
   "metadata": {
    "scrolled": true
   },
   "outputs": [],
   "source": [
    "0.05*len(large_arr)"
   ]
  },
  {
   "cell_type": "code",
   "execution_count": null,
   "metadata": {
    "scrolled": true
   },
   "outputs": [],
   "source": [
    "large_arr[int(0.5*len(large_arr))]"
   ]
  },
  {
   "cell_type": "markdown",
   "metadata": {},
   "source": [
    "## 4.3.5 唯一值与其他集合逻辑"
   ]
  },
  {
   "cell_type": "code",
   "execution_count": null,
   "metadata": {
    "scrolled": true
   },
   "outputs": [],
   "source": [
    "names = np.array(['Bob','Joe','Will','Joe','Joe'])"
   ]
  },
  {
   "cell_type": "code",
   "execution_count": null,
   "metadata": {
    "scrolled": true
   },
   "outputs": [],
   "source": [
    "names"
   ]
  },
  {
   "cell_type": "code",
   "execution_count": null,
   "metadata": {
    "scrolled": true
   },
   "outputs": [],
   "source": [
    "np.unique(names)"
   ]
  },
  {
   "cell_type": "code",
   "execution_count": null,
   "metadata": {
    "scrolled": true
   },
   "outputs": [],
   "source": [
    "ints = np.array([1,1,2,2,4,5,7,9,9,6])"
   ]
  },
  {
   "cell_type": "code",
   "execution_count": null,
   "metadata": {
    "scrolled": true
   },
   "outputs": [],
   "source": [
    "np.unique(ints)"
   ]
  },
  {
   "cell_type": "code",
   "execution_count": null,
   "metadata": {
    "scrolled": true
   },
   "outputs": [],
   "source": [
    "sorted(set(ints))"
   ]
  },
  {
   "cell_type": "code",
   "execution_count": null,
   "metadata": {
    "scrolled": true
   },
   "outputs": [],
   "source": [
    "values = np.array([6,0,0,3,2,5,6])"
   ]
  },
  {
   "cell_type": "code",
   "execution_count": null,
   "metadata": {
    "scrolled": true
   },
   "outputs": [],
   "source": [
    "values"
   ]
  },
  {
   "cell_type": "code",
   "execution_count": null,
   "metadata": {
    "scrolled": true
   },
   "outputs": [],
   "source": [
    "np.in1d([2,3,7],values)"
   ]
  },
  {
   "cell_type": "markdown",
   "metadata": {},
   "source": [
    "# 4.4 使用数组进行文件输入和输出"
   ]
  },
  {
   "cell_type": "code",
   "execution_count": null,
   "metadata": {
    "scrolled": true
   },
   "outputs": [],
   "source": [
    "arr = np.arange(10)"
   ]
  },
  {
   "cell_type": "code",
   "execution_count": null,
   "metadata": {
    "scrolled": true
   },
   "outputs": [],
   "source": [
    "np.save('some_arr', arr)"
   ]
  },
  {
   "cell_type": "code",
   "execution_count": null,
   "metadata": {
    "scrolled": true
   },
   "outputs": [],
   "source": [
    "np.load('some_arr.npy')"
   ]
  },
  {
   "cell_type": "code",
   "execution_count": null,
   "metadata": {
    "scrolled": true
   },
   "outputs": [],
   "source": [
    "arr2 = np.arange(1,25)"
   ]
  },
  {
   "cell_type": "code",
   "execution_count": null,
   "metadata": {
    "scrolled": true
   },
   "outputs": [],
   "source": [
    "np.savez('somes_arrs',a=arr, b=arr2)"
   ]
  },
  {
   "cell_type": "code",
   "execution_count": null,
   "metadata": {
    "scrolled": true
   },
   "outputs": [],
   "source": [
    "np.load('somes_arrs.npz')"
   ]
  },
  {
   "cell_type": "code",
   "execution_count": null,
   "metadata": {
    "scrolled": true
   },
   "outputs": [],
   "source": [
    "arch = np.load('somes_arrs.npz')"
   ]
  },
  {
   "cell_type": "code",
   "execution_count": null,
   "metadata": {
    "scrolled": true
   },
   "outputs": [],
   "source": [
    "arch['a']"
   ]
  },
  {
   "cell_type": "code",
   "execution_count": null,
   "metadata": {
    "scrolled": true
   },
   "outputs": [],
   "source": [
    "arch['b']"
   ]
  },
  {
   "cell_type": "markdown",
   "metadata": {},
   "source": [
    "# 4.5 线性代数"
   ]
  },
  {
   "cell_type": "code",
   "execution_count": null,
   "metadata": {
    "scrolled": true
   },
   "outputs": [],
   "source": [
    "x = np.array([[1,2,3],[4,5,6]])"
   ]
  },
  {
   "cell_type": "code",
   "execution_count": null,
   "metadata": {
    "scrolled": true
   },
   "outputs": [],
   "source": [
    "x"
   ]
  },
  {
   "cell_type": "code",
   "execution_count": null,
   "metadata": {
    "scrolled": true
   },
   "outputs": [],
   "source": [
    "y = np.array([[6,23],[-1,7],[8,9]])"
   ]
  },
  {
   "cell_type": "code",
   "execution_count": null,
   "metadata": {
    "scrolled": true
   },
   "outputs": [],
   "source": [
    "y"
   ]
  },
  {
   "cell_type": "code",
   "execution_count": null,
   "metadata": {
    "scrolled": true
   },
   "outputs": [],
   "source": [
    "x@y"
   ]
  },
  {
   "cell_type": "code",
   "execution_count": null,
   "metadata": {
    "scrolled": true
   },
   "outputs": [],
   "source": [
    "x*y"
   ]
  },
  {
   "cell_type": "code",
   "execution_count": null,
   "metadata": {
    "scrolled": true
   },
   "outputs": [],
   "source": [
    "x*y.reshape(2,3)"
   ]
  },
  {
   "cell_type": "code",
   "execution_count": null,
   "metadata": {
    "scrolled": true
   },
   "outputs": [],
   "source": [
    "y.reshape(2,3)"
   ]
  },
  {
   "cell_type": "code",
   "execution_count": null,
   "metadata": {
    "scrolled": true
   },
   "outputs": [],
   "source": [
    "y"
   ]
  },
  {
   "cell_type": "code",
   "execution_count": null,
   "metadata": {
    "scrolled": true
   },
   "outputs": [],
   "source": [
    "x = np.random.randn(5,5)"
   ]
  },
  {
   "cell_type": "code",
   "execution_count": null,
   "metadata": {
    "scrolled": true
   },
   "outputs": [],
   "source": [
    "x"
   ]
  },
  {
   "cell_type": "code",
   "execution_count": null,
   "metadata": {
    "scrolled": true
   },
   "outputs": [],
   "source": [
    "mat=x.T.dot(x)"
   ]
  },
  {
   "cell_type": "code",
   "execution_count": null,
   "metadata": {
    "scrolled": true
   },
   "outputs": [],
   "source": [
    "from numpy.linalg import inv, qr"
   ]
  },
  {
   "cell_type": "code",
   "execution_count": null,
   "metadata": {
    "scrolled": false
   },
   "outputs": [],
   "source": [
    "mat.dot(inv(mat))"
   ]
  },
  {
   "cell_type": "code",
   "execution_count": null,
   "metadata": {
    "scrolled": false
   },
   "outputs": [],
   "source": [
    "a = np.random.randn(3,3)"
   ]
  },
  {
   "cell_type": "code",
   "execution_count": null,
   "metadata": {},
   "outputs": [],
   "source": [
    "q,r = qr(a)"
   ]
  },
  {
   "cell_type": "code",
   "execution_count": null,
   "metadata": {},
   "outputs": [],
   "source": [
    "q"
   ]
  },
  {
   "cell_type": "code",
   "execution_count": null,
   "metadata": {},
   "outputs": [],
   "source": [
    "r"
   ]
  },
  {
   "cell_type": "code",
   "execution_count": null,
   "metadata": {},
   "outputs": [],
   "source": [
    "a"
   ]
  },
  {
   "cell_type": "code",
   "execution_count": null,
   "metadata": {},
   "outputs": [],
   "source": [
    "x = np.random.randn(5,5)\n",
    "x"
   ]
  },
  {
   "cell_type": "markdown",
   "metadata": {},
   "source": [
    "# 4.6 伪随机数生成"
   ]
  },
  {
   "cell_type": "code",
   "execution_count": 157,
   "metadata": {},
   "outputs": [
    {
     "data": {
      "text/plain": [
       "array([[[ 2.03189955,  1.316035  , -0.6076562 ,  0.63680015],\n",
       "        [-0.46997535,  0.65189379,  0.3416442 ,  0.0321014 ],\n",
       "        [-0.55469526, -0.78025133, -0.0046679 ,  1.49806071],\n",
       "        [ 1.59357048,  0.30068314,  0.98157768,  2.66819624]],\n",
       "\n",
       "       [[ 0.59246196,  0.56601015, -0.72439692, -0.46394916],\n",
       "        [ 0.79783542, -1.11718878,  0.2645824 ,  0.17481319],\n",
       "        [-0.61467225,  0.51623966, -0.09677939,  0.16282315],\n",
       "        [-0.16659901,  0.22989603,  1.35802703,  0.38192131]],\n",
       "\n",
       "       [[-0.32532412, -0.40317789,  0.58437131,  1.40582326],\n",
       "        [ 0.28688607, -1.65855687, -1.04942681, -0.50178083],\n",
       "        [-0.36388239, -0.06227584, -0.36384939,  0.76094945],\n",
       "        [ 0.61392631,  1.12720398,  0.3736254 ,  0.56510262]],\n",
       "\n",
       "       [[ 0.8318302 , -0.80493412, -0.90266703,  0.73903852],\n",
       "        [ 0.66610881,  0.43058311, -0.05299306,  0.84257328],\n",
       "        [-0.73099508,  0.17649039,  1.15118677, -0.12262893],\n",
       "        [ 0.48375775, -0.39472012, -0.53551172,  2.23433299]]])"
      ]
     },
     "execution_count": 157,
     "metadata": {},
     "output_type": "execute_result"
    }
   ],
   "source": [
    "np.random.randn(4,4,4)"
   ]
  },
  {
   "cell_type": "code",
   "execution_count": 158,
   "metadata": {},
   "outputs": [
    {
     "data": {
      "text/plain": [
       "array([[ 1.15426251, -0.14612946, -1.19367518, -3.68520438],\n",
       "       [-1.10644957, -0.44287225,  0.92273314,  0.18473769],\n",
       "       [ 0.97467392,  0.72541717,  1.15088252, -0.0400562 ],\n",
       "       [-0.1952973 , -1.77202063, -0.81818383, -0.30375897]])"
      ]
     },
     "execution_count": 158,
     "metadata": {},
     "output_type": "execute_result"
    }
   ],
   "source": [
    "np.random.normal(size=(4,4))"
   ]
  },
  {
   "cell_type": "code",
   "execution_count": 159,
   "metadata": {},
   "outputs": [],
   "source": [
    "np.random.randn?"
   ]
  },
  {
   "cell_type": "code",
   "execution_count": 168,
   "metadata": {},
   "outputs": [],
   "source": [
    "from random import normalvariate"
   ]
  },
  {
   "cell_type": "code",
   "execution_count": 169,
   "metadata": {},
   "outputs": [],
   "source": [
    "n = 100000"
   ]
  },
  {
   "cell_type": "code",
   "execution_count": 170,
   "metadata": {},
   "outputs": [
    {
     "name": "stdout",
     "output_type": "stream",
     "text": [
      "61.3 ms ± 1.02 ms per loop (mean ± std. dev. of 7 runs, 10 loops each)\n"
     ]
    }
   ],
   "source": [
    "%timeit samples = [normalvariate(0,1) for _ in range(n)]"
   ]
  },
  {
   "cell_type": "code",
   "execution_count": 171,
   "metadata": {},
   "outputs": [
    {
     "name": "stdout",
     "output_type": "stream",
     "text": [
      "1.98 ms ± 18.3 µs per loop (mean ± std. dev. of 7 runs, 100 loops each)\n"
     ]
    }
   ],
   "source": [
    "%timeit np.random.normal(size=n)"
   ]
  },
  {
   "cell_type": "code",
   "execution_count": 176,
   "metadata": {},
   "outputs": [],
   "source": [
    "np.random.seed(1234)"
   ]
  },
  {
   "cell_type": "code",
   "execution_count": 173,
   "metadata": {},
   "outputs": [],
   "source": [
    "rng = np.random.RandomState(1234)"
   ]
  },
  {
   "cell_type": "code",
   "execution_count": 174,
   "metadata": {},
   "outputs": [
    {
     "data": {
      "text/plain": [
       "array([ 0.47143516, -1.19097569,  1.43270697, -0.3126519 , -0.72058873,\n",
       "        0.88716294,  0.85958841, -0.6365235 ,  0.01569637, -2.24268495])"
      ]
     },
     "execution_count": 174,
     "metadata": {},
     "output_type": "execute_result"
    }
   ],
   "source": [
    "rng.randn(10)"
   ]
  },
  {
   "cell_type": "code",
   "execution_count": 177,
   "metadata": {},
   "outputs": [
    {
     "data": {
      "text/plain": [
       "array([ 0.47143516, -1.19097569,  1.43270697])"
      ]
     },
     "execution_count": 177,
     "metadata": {},
     "output_type": "execute_result"
    }
   ],
   "source": [
    "np.random.randn(3)"
   ]
  },
  {
   "cell_type": "code",
   "execution_count": 180,
   "metadata": {},
   "outputs": [],
   "source": [
    "np.random.normal?"
   ]
  },
  {
   "cell_type": "code",
   "execution_count": 181,
   "metadata": {},
   "outputs": [],
   "source": [
    "np.random.randint?"
   ]
  },
  {
   "cell_type": "code",
   "execution_count": 156,
   "metadata": {
    "scrolled": true
   },
   "outputs": [
    {
     "data": {
      "text/plain": [
       "0"
      ]
     },
     "execution_count": 156,
     "metadata": {},
     "output_type": "execute_result"
    }
   ],
   "source": [
    "np.random.randint(0,2)"
   ]
  },
  {
   "cell_type": "markdown",
   "metadata": {},
   "source": [
    "# 4.7 示例：随机漫步"
   ]
  },
  {
   "cell_type": "code",
   "execution_count": 182,
   "metadata": {},
   "outputs": [],
   "source": [
    "import random "
   ]
  },
  {
   "cell_type": "code",
   "execution_count": 195,
   "metadata": {},
   "outputs": [
    {
     "data": {
      "text/plain": [
       "0"
      ]
     },
     "execution_count": 195,
     "metadata": {},
     "output_type": "execute_result"
    }
   ],
   "source": [
    "random.randint(0,1)"
   ]
  },
  {
   "cell_type": "code",
   "execution_count": 194,
   "metadata": {},
   "outputs": [],
   "source": [
    "np.random.randint?"
   ]
  },
  {
   "cell_type": "code",
   "execution_count": 198,
   "metadata": {},
   "outputs": [],
   "source": [
    "position = 0\n",
    "walk = [position]\n",
    "steps = 1000\n",
    "for i in range(steps):\n",
    "    step = 1 if random.randint(0,1) else -1\n",
    "    position += step\n",
    "    walk.append(position)"
   ]
  },
  {
   "cell_type": "code",
   "execution_count": 199,
   "metadata": {
    "collapsed": true
   },
   "outputs": [
    {
     "data": {
      "text/plain": [
       "[0,\n",
       " 1,\n",
       " 0,\n",
       " 1,\n",
       " 2,\n",
       " 1,\n",
       " 0,\n",
       " 1,\n",
       " 2,\n",
       " 3,\n",
       " 4,\n",
       " 5,\n",
       " 6,\n",
       " 7,\n",
       " 6,\n",
       " 7,\n",
       " 8,\n",
       " 7,\n",
       " 6,\n",
       " 7,\n",
       " 6,\n",
       " 7,\n",
       " 6,\n",
       " 7,\n",
       " 8,\n",
       " 7,\n",
       " 8,\n",
       " 9,\n",
       " 10,\n",
       " 9,\n",
       " 10,\n",
       " 9,\n",
       " 8,\n",
       " 7,\n",
       " 8,\n",
       " 7,\n",
       " 6,\n",
       " 7,\n",
       " 6,\n",
       " 5,\n",
       " 6,\n",
       " 5,\n",
       " 4,\n",
       " 3,\n",
       " 2,\n",
       " 1,\n",
       " 0,\n",
       " 1,\n",
       " 0,\n",
       " 1,\n",
       " 0,\n",
       " 1,\n",
       " 0,\n",
       " 1,\n",
       " 0,\n",
       " -1,\n",
       " 0,\n",
       " 1,\n",
       " 0,\n",
       " -1,\n",
       " -2,\n",
       " -3,\n",
       " -2,\n",
       " -1,\n",
       " -2,\n",
       " -1,\n",
       " -2,\n",
       " -1,\n",
       " 0,\n",
       " 1,\n",
       " 2,\n",
       " 3,\n",
       " 2,\n",
       " 1,\n",
       " 0,\n",
       " 1,\n",
       " 0,\n",
       " -1,\n",
       " 0,\n",
       " 1,\n",
       " 2,\n",
       " 3,\n",
       " 2,\n",
       " 3,\n",
       " 2,\n",
       " 1,\n",
       " 2,\n",
       " 3,\n",
       " 2,\n",
       " 1,\n",
       " 0,\n",
       " 1,\n",
       " 2,\n",
       " 1,\n",
       " 0,\n",
       " -1,\n",
       " -2,\n",
       " -1,\n",
       " 0,\n",
       " 1,\n",
       " 2,\n",
       " 1,\n",
       " 2,\n",
       " 1,\n",
       " 2,\n",
       " 1,\n",
       " 0,\n",
       " 1,\n",
       " 2,\n",
       " 1,\n",
       " 0,\n",
       " -1,\n",
       " 0,\n",
       " 1,\n",
       " 2,\n",
       " 1,\n",
       " 0,\n",
       " 1,\n",
       " 0,\n",
       " -1,\n",
       " -2,\n",
       " -3,\n",
       " -4,\n",
       " -5,\n",
       " -4,\n",
       " -5,\n",
       " -4,\n",
       " -3,\n",
       " -4,\n",
       " -3,\n",
       " -4,\n",
       " -3,\n",
       " -4,\n",
       " -5,\n",
       " -4,\n",
       " -5,\n",
       " -4,\n",
       " -3,\n",
       " -4,\n",
       " -5,\n",
       " -4,\n",
       " -5,\n",
       " -6,\n",
       " -5,\n",
       " -6,\n",
       " -7,\n",
       " -6,\n",
       " -7,\n",
       " -6,\n",
       " -7,\n",
       " -6,\n",
       " -7,\n",
       " -8,\n",
       " -7,\n",
       " -8,\n",
       " -9,\n",
       " -8,\n",
       " -7,\n",
       " -8,\n",
       " -7,\n",
       " -8,\n",
       " -9,\n",
       " -10,\n",
       " -11,\n",
       " -10,\n",
       " -9,\n",
       " -10,\n",
       " -11,\n",
       " -10,\n",
       " -11,\n",
       " -10,\n",
       " -9,\n",
       " -10,\n",
       " -11,\n",
       " -10,\n",
       " -11,\n",
       " -12,\n",
       " -11,\n",
       " -12,\n",
       " -13,\n",
       " -12,\n",
       " -11,\n",
       " -10,\n",
       " -9,\n",
       " -8,\n",
       " -9,\n",
       " -8,\n",
       " -7,\n",
       " -6,\n",
       " -7,\n",
       " -8,\n",
       " -9,\n",
       " -10,\n",
       " -9,\n",
       " -8,\n",
       " -7,\n",
       " -6,\n",
       " -7,\n",
       " -6,\n",
       " -5,\n",
       " -6,\n",
       " -7,\n",
       " -8,\n",
       " -7,\n",
       " -6,\n",
       " -5,\n",
       " -4,\n",
       " -3,\n",
       " -4,\n",
       " -5,\n",
       " -6,\n",
       " -7,\n",
       " -6,\n",
       " -5,\n",
       " -4,\n",
       " -3,\n",
       " -4,\n",
       " -3,\n",
       " -4,\n",
       " -3,\n",
       " -4,\n",
       " -3,\n",
       " -4,\n",
       " -5,\n",
       " -4,\n",
       " -5,\n",
       " -4,\n",
       " -5,\n",
       " -6,\n",
       " -5,\n",
       " -6,\n",
       " -5,\n",
       " -4,\n",
       " -3,\n",
       " -4,\n",
       " -5,\n",
       " -6,\n",
       " -5,\n",
       " -6,\n",
       " -5,\n",
       " -6,\n",
       " -5,\n",
       " -6,\n",
       " -5,\n",
       " -4,\n",
       " -5,\n",
       " -6,\n",
       " -7,\n",
       " -8,\n",
       " -7,\n",
       " -8,\n",
       " -7,\n",
       " -6,\n",
       " -7,\n",
       " -8,\n",
       " -9,\n",
       " -8,\n",
       " -7,\n",
       " -8,\n",
       " -9,\n",
       " -8,\n",
       " -7,\n",
       " -8,\n",
       " -7,\n",
       " -6,\n",
       " -7,\n",
       " -8,\n",
       " -7,\n",
       " -8,\n",
       " -9,\n",
       " -10,\n",
       " -11,\n",
       " -12,\n",
       " -11,\n",
       " -12,\n",
       " -13,\n",
       " -14,\n",
       " -15,\n",
       " -14,\n",
       " -15,\n",
       " -14,\n",
       " -15,\n",
       " -14,\n",
       " -13,\n",
       " -12,\n",
       " -13,\n",
       " -12,\n",
       " -13,\n",
       " -12,\n",
       " -11,\n",
       " -12,\n",
       " -11,\n",
       " -12,\n",
       " -11,\n",
       " -10,\n",
       " -11,\n",
       " -12,\n",
       " -11,\n",
       " -10,\n",
       " -11,\n",
       " -12,\n",
       " -11,\n",
       " -12,\n",
       " -11,\n",
       " -10,\n",
       " -9,\n",
       " -8,\n",
       " -7,\n",
       " -8,\n",
       " -9,\n",
       " -8,\n",
       " -9,\n",
       " -8,\n",
       " -9,\n",
       " -10,\n",
       " -9,\n",
       " -8,\n",
       " -9,\n",
       " -10,\n",
       " -9,\n",
       " -10,\n",
       " -11,\n",
       " -12,\n",
       " -13,\n",
       " -12,\n",
       " -13,\n",
       " -14,\n",
       " -15,\n",
       " -14,\n",
       " -15,\n",
       " -16,\n",
       " -17,\n",
       " -18,\n",
       " -19,\n",
       " -18,\n",
       " -19,\n",
       " -18,\n",
       " -17,\n",
       " -18,\n",
       " -19,\n",
       " -20,\n",
       " -21,\n",
       " -22,\n",
       " -21,\n",
       " -22,\n",
       " -21,\n",
       " -22,\n",
       " -21,\n",
       " -22,\n",
       " -21,\n",
       " -20,\n",
       " -19,\n",
       " -18,\n",
       " -17,\n",
       " -16,\n",
       " -15,\n",
       " -16,\n",
       " -17,\n",
       " -18,\n",
       " -19,\n",
       " -18,\n",
       " -17,\n",
       " -18,\n",
       " -19,\n",
       " -20,\n",
       " -19,\n",
       " -18,\n",
       " -17,\n",
       " -18,\n",
       " -17,\n",
       " -18,\n",
       " -17,\n",
       " -18,\n",
       " -17,\n",
       " -16,\n",
       " -17,\n",
       " -16,\n",
       " -15,\n",
       " -14,\n",
       " -15,\n",
       " -14,\n",
       " -13,\n",
       " -14,\n",
       " -15,\n",
       " -16,\n",
       " -17,\n",
       " -18,\n",
       " -17,\n",
       " -16,\n",
       " -17,\n",
       " -16,\n",
       " -17,\n",
       " -18,\n",
       " -17,\n",
       " -18,\n",
       " -17,\n",
       " -18,\n",
       " -19,\n",
       " -18,\n",
       " -19,\n",
       " -18,\n",
       " -17,\n",
       " -18,\n",
       " -19,\n",
       " -18,\n",
       " -19,\n",
       " -20,\n",
       " -21,\n",
       " -20,\n",
       " -21,\n",
       " -20,\n",
       " -19,\n",
       " -18,\n",
       " -19,\n",
       " -20,\n",
       " -19,\n",
       " -20,\n",
       " -19,\n",
       " -18,\n",
       " -19,\n",
       " -18,\n",
       " -19,\n",
       " -20,\n",
       " -19,\n",
       " -20,\n",
       " -21,\n",
       " -22,\n",
       " -21,\n",
       " -20,\n",
       " -19,\n",
       " -18,\n",
       " -17,\n",
       " -18,\n",
       " -17,\n",
       " -16,\n",
       " -15,\n",
       " -14,\n",
       " -13,\n",
       " -12,\n",
       " -11,\n",
       " -10,\n",
       " -11,\n",
       " -10,\n",
       " -11,\n",
       " -10,\n",
       " -11,\n",
       " -12,\n",
       " -11,\n",
       " -12,\n",
       " -11,\n",
       " -10,\n",
       " -9,\n",
       " -10,\n",
       " -9,\n",
       " -10,\n",
       " -11,\n",
       " -10,\n",
       " -11,\n",
       " -12,\n",
       " -11,\n",
       " -10,\n",
       " -11,\n",
       " -10,\n",
       " -11,\n",
       " -12,\n",
       " -11,\n",
       " -12,\n",
       " -13,\n",
       " -14,\n",
       " -13,\n",
       " -14,\n",
       " -15,\n",
       " -14,\n",
       " -13,\n",
       " -14,\n",
       " -15,\n",
       " -16,\n",
       " -15,\n",
       " -16,\n",
       " -17,\n",
       " -18,\n",
       " -19,\n",
       " -20,\n",
       " -19,\n",
       " -18,\n",
       " -17,\n",
       " -18,\n",
       " -19,\n",
       " -18,\n",
       " -17,\n",
       " -18,\n",
       " -17,\n",
       " -16,\n",
       " -17,\n",
       " -18,\n",
       " -19,\n",
       " -20,\n",
       " -19,\n",
       " -18,\n",
       " -17,\n",
       " -16,\n",
       " -15,\n",
       " -14,\n",
       " -15,\n",
       " -14,\n",
       " -13,\n",
       " -14,\n",
       " -15,\n",
       " -14,\n",
       " -15,\n",
       " -14,\n",
       " -13,\n",
       " -12,\n",
       " -11,\n",
       " -12,\n",
       " -11,\n",
       " -10,\n",
       " -11,\n",
       " -12,\n",
       " -13,\n",
       " -12,\n",
       " -13,\n",
       " -12,\n",
       " -11,\n",
       " -10,\n",
       " -11,\n",
       " -12,\n",
       " -13,\n",
       " -12,\n",
       " -11,\n",
       " -12,\n",
       " -11,\n",
       " -12,\n",
       " -13,\n",
       " -14,\n",
       " -13,\n",
       " -14,\n",
       " -15,\n",
       " -14,\n",
       " -13,\n",
       " -12,\n",
       " -13,\n",
       " -12,\n",
       " -13,\n",
       " -14,\n",
       " -13,\n",
       " -12,\n",
       " -13,\n",
       " -14,\n",
       " -13,\n",
       " -14,\n",
       " -13,\n",
       " -12,\n",
       " -11,\n",
       " -10,\n",
       " -11,\n",
       " -10,\n",
       " -9,\n",
       " -8,\n",
       " -9,\n",
       " -10,\n",
       " -11,\n",
       " -12,\n",
       " -13,\n",
       " -14,\n",
       " -13,\n",
       " -12,\n",
       " -11,\n",
       " -10,\n",
       " -9,\n",
       " -8,\n",
       " -7,\n",
       " -8,\n",
       " -9,\n",
       " -8,\n",
       " -9,\n",
       " -8,\n",
       " -7,\n",
       " -6,\n",
       " -7,\n",
       " -6,\n",
       " -7,\n",
       " -6,\n",
       " -7,\n",
       " -6,\n",
       " -7,\n",
       " -6,\n",
       " -7,\n",
       " -8,\n",
       " -9,\n",
       " -10,\n",
       " -11,\n",
       " -12,\n",
       " -13,\n",
       " -12,\n",
       " -11,\n",
       " -10,\n",
       " -9,\n",
       " -10,\n",
       " -11,\n",
       " -12,\n",
       " -13,\n",
       " -14,\n",
       " -13,\n",
       " -12,\n",
       " -13,\n",
       " -14,\n",
       " -15,\n",
       " -14,\n",
       " -13,\n",
       " -14,\n",
       " -13,\n",
       " -12,\n",
       " -13,\n",
       " -12,\n",
       " -13,\n",
       " -14,\n",
       " -13,\n",
       " -12,\n",
       " -11,\n",
       " -10,\n",
       " -11,\n",
       " -10,\n",
       " -11,\n",
       " -10,\n",
       " -11,\n",
       " -12,\n",
       " -13,\n",
       " -14,\n",
       " -13,\n",
       " -14,\n",
       " -13,\n",
       " -12,\n",
       " -11,\n",
       " -10,\n",
       " -9,\n",
       " -8,\n",
       " -7,\n",
       " -6,\n",
       " -7,\n",
       " -6,\n",
       " -5,\n",
       " -4,\n",
       " -5,\n",
       " -4,\n",
       " -3,\n",
       " -4,\n",
       " -5,\n",
       " -6,\n",
       " -7,\n",
       " -8,\n",
       " -7,\n",
       " -8,\n",
       " -7,\n",
       " -8,\n",
       " -9,\n",
       " -10,\n",
       " -11,\n",
       " -12,\n",
       " -13,\n",
       " -12,\n",
       " -13,\n",
       " -14,\n",
       " -15,\n",
       " -16,\n",
       " -15,\n",
       " -16,\n",
       " -15,\n",
       " -16,\n",
       " -15,\n",
       " -14,\n",
       " -13,\n",
       " -14,\n",
       " -13,\n",
       " -12,\n",
       " -13,\n",
       " -12,\n",
       " -13,\n",
       " -14,\n",
       " -15,\n",
       " -16,\n",
       " -15,\n",
       " -16,\n",
       " -15,\n",
       " -16,\n",
       " -15,\n",
       " -16,\n",
       " -15,\n",
       " -16,\n",
       " -17,\n",
       " -16,\n",
       " -15,\n",
       " -16,\n",
       " -15,\n",
       " -16,\n",
       " -17,\n",
       " -18,\n",
       " -19,\n",
       " -20,\n",
       " -19,\n",
       " -20,\n",
       " -19,\n",
       " -20,\n",
       " -21,\n",
       " -20,\n",
       " -19,\n",
       " -18,\n",
       " -19,\n",
       " -20,\n",
       " -19,\n",
       " -18,\n",
       " -19,\n",
       " -18,\n",
       " -19,\n",
       " -20,\n",
       " -19,\n",
       " -18,\n",
       " -17,\n",
       " -18,\n",
       " -17,\n",
       " -18,\n",
       " -19,\n",
       " -18,\n",
       " -17,\n",
       " -18,\n",
       " -19,\n",
       " -18,\n",
       " -19,\n",
       " -20,\n",
       " -19,\n",
       " -18,\n",
       " -19,\n",
       " -20,\n",
       " -21,\n",
       " -20,\n",
       " -21,\n",
       " -22,\n",
       " -21,\n",
       " -22,\n",
       " -23,\n",
       " -24,\n",
       " -25,\n",
       " -24,\n",
       " -25,\n",
       " -24,\n",
       " -25,\n",
       " -26,\n",
       " -25,\n",
       " -26,\n",
       " -27,\n",
       " -28,\n",
       " -29,\n",
       " -28,\n",
       " -27,\n",
       " -26,\n",
       " -25,\n",
       " -26,\n",
       " -25,\n",
       " -26,\n",
       " -27,\n",
       " -28,\n",
       " -27,\n",
       " -28,\n",
       " -27,\n",
       " -28,\n",
       " -27,\n",
       " -26,\n",
       " -27,\n",
       " -26,\n",
       " -25,\n",
       " -24,\n",
       " -23,\n",
       " -22,\n",
       " -23,\n",
       " -22,\n",
       " -23,\n",
       " -24,\n",
       " -25,\n",
       " -26,\n",
       " -25,\n",
       " -24,\n",
       " -25,\n",
       " -24,\n",
       " -23,\n",
       " -22,\n",
       " -23,\n",
       " -24,\n",
       " -23,\n",
       " -24,\n",
       " -23,\n",
       " -22,\n",
       " -21,\n",
       " -22,\n",
       " -21,\n",
       " -22,\n",
       " -23,\n",
       " -24,\n",
       " -25,\n",
       " -24,\n",
       " -25,\n",
       " -24,\n",
       " -23,\n",
       " -24,\n",
       " -23,\n",
       " -24,\n",
       " -23,\n",
       " -24,\n",
       " -25,\n",
       " -24,\n",
       " -25,\n",
       " -26,\n",
       " -25,\n",
       " -26,\n",
       " -27,\n",
       " -28,\n",
       " -29,\n",
       " -30,\n",
       " -31,\n",
       " -32,\n",
       " -33,\n",
       " -32,\n",
       " -31,\n",
       " -32,\n",
       " -31,\n",
       " -32,\n",
       " -33,\n",
       " -32,\n",
       " -33,\n",
       " -32,\n",
       " -31,\n",
       " -32,\n",
       " -31,\n",
       " -30,\n",
       " -29,\n",
       " -30,\n",
       " -31,\n",
       " -30,\n",
       " -29,\n",
       " -30,\n",
       " -29,\n",
       " -28,\n",
       " -27,\n",
       " -26,\n",
       " -27,\n",
       " -28,\n",
       " -27,\n",
       " -28,\n",
       " -27,\n",
       " -26,\n",
       " -25,\n",
       " -26,\n",
       " -27,\n",
       " -28,\n",
       " -29,\n",
       " -28,\n",
       " -29,\n",
       " -30,\n",
       " -29,\n",
       " -30,\n",
       " -29,\n",
       " -30,\n",
       " -29,\n",
       " -28,\n",
       " -27,\n",
       " -26,\n",
       " -25,\n",
       " -26,\n",
       " -25,\n",
       " -24,\n",
       " -23,\n",
       " -22,\n",
       " -23,\n",
       " -22,\n",
       " -21,\n",
       " -20,\n",
       " -21,\n",
       " -20,\n",
       " -19,\n",
       " -20,\n",
       " -21,\n",
       " -22,\n",
       " -23,\n",
       " -24,\n",
       " -25,\n",
       " -26,\n",
       " -27,\n",
       " -26,\n",
       " -27,\n",
       " -26,\n",
       " -25,\n",
       " -24,\n",
       " -23,\n",
       " -24,\n",
       " -25,\n",
       " -26,\n",
       " -25,\n",
       " -26,\n",
       " -25,\n",
       " -24,\n",
       " -25,\n",
       " -24,\n",
       " -25,\n",
       " -26,\n",
       " -27,\n",
       " -28,\n",
       " -29,\n",
       " -30,\n",
       " -29,\n",
       " -30,\n",
       " -29,\n",
       " -30,\n",
       " -29,\n",
       " -30,\n",
       " -31,\n",
       " -30,\n",
       " -29,\n",
       " -30,\n",
       " -31,\n",
       " -32,\n",
       " -33,\n",
       " -32,\n",
       " -33,\n",
       " -32,\n",
       " -33,\n",
       " -34,\n",
       " -33,\n",
       " -34,\n",
       " -35,\n",
       " -34,\n",
       " -33,\n",
       " -34,\n",
       " -33,\n",
       " -34,\n",
       " -33,\n",
       " -32,\n",
       " -31,\n",
       " -32,\n",
       " -31,\n",
       " -30,\n",
       " -29,\n",
       " -30,\n",
       " -29,\n",
       " -28,\n",
       " -27,\n",
       " -26,\n",
       " -25,\n",
       " -26,\n",
       " -27,\n",
       " -26,\n",
       " -25,\n",
       " -24,\n",
       " -25,\n",
       " -26,\n",
       " -27,\n",
       " -26,\n",
       " -25,\n",
       " -26,\n",
       " -27,\n",
       " -26,\n",
       " -25,\n",
       " -26,\n",
       " -25,\n",
       " -24,\n",
       " -23,\n",
       " -24,\n",
       " -25,\n",
       " -24,\n",
       " -23,\n",
       " -22,\n",
       " -21,\n",
       " -22,\n",
       " -21,\n",
       " -20,\n",
       " -21,\n",
       " -20,\n",
       " -19,\n",
       " -18,\n",
       " -19,\n",
       " -20,\n",
       " -19,\n",
       " -20,\n",
       " -21,\n",
       " -20,\n",
       " -21,\n",
       " -20,\n",
       " -19,\n",
       " -18,\n",
       " -19,\n",
       " -20,\n",
       " -21,\n",
       " -22,\n",
       " -23,\n",
       " -22,\n",
       " -23,\n",
       " -22,\n",
       " -21,\n",
       " -22,\n",
       " -23,\n",
       " -22,\n",
       " -23,\n",
       " ...]"
      ]
     },
     "execution_count": 199,
     "metadata": {},
     "output_type": "execute_result"
    }
   ],
   "source": [
    "walk"
   ]
  },
  {
   "cell_type": "code",
   "execution_count": 202,
   "metadata": {},
   "outputs": [
    {
     "data": {
      "text/plain": [
       "[<matplotlib.lines.Line2D at 0x237bead0088>]"
      ]
     },
     "execution_count": 202,
     "metadata": {},
     "output_type": "execute_result"
    },
    {
     "data": {
      "image/png": "[encoded data removed]",
      "text/plain": [
       "<Figure size 432x288 with 1 Axes>"
      ]
     },
     "metadata": {
      "needs_background": "light"
     },
     "output_type": "display_data"
    }
   ],
   "source": [
    "plt.plot(walk)"
   ]
  },
  {
   "cell_type": "code",
   "execution_count": 204,
   "metadata": {},
   "outputs": [
    {
     "data": {
      "text/plain": [
       "-35"
      ]
     },
     "execution_count": 204,
     "metadata": {},
     "output_type": "execute_result"
    }
   ],
   "source": [
    "np.min(walk)"
   ]
  },
  {
   "cell_type": "code",
   "execution_count": 205,
   "metadata": {},
   "outputs": [],
   "source": [
    "nsteps = 1000\n",
    "draws = np.random.randint(0,2,size=1000)\n",
    "steps = np.where(draws>0,1,-1)\n",
    "walk = np.cumsum(steps)"
   ]
  },
  {
   "cell_type": "code",
   "execution_count": 206,
   "metadata": {},
   "outputs": [
    {
     "data": {
      "text/plain": [
       "[<matplotlib.lines.Line2D at 0x237bd652888>]"
      ]
     },
     "execution_count": 206,
     "metadata": {},
     "output_type": "execute_result"
    },
    {
     "data": {
      "image/png": "[encoded data removed]",
      "text/plain": [
       "<Figure size 432x288 with 1 Axes>"
      ]
     },
     "metadata": {
      "needs_background": "light"
     },
     "output_type": "display_data"
    }
   ],
   "source": [
    "plt.plot(walk)"
   ]
  },
  {
   "cell_type": "code",
   "execution_count": 207,
   "metadata": {},
   "outputs": [
    {
     "data": {
      "text/plain": [
       "-13"
      ]
     },
     "execution_count": 207,
     "metadata": {},
     "output_type": "execute_result"
    }
   ],
   "source": [
    "walk.min()"
   ]
  },
  {
   "cell_type": "code",
   "execution_count": 208,
   "metadata": {},
   "outputs": [
    {
     "data": {
      "text/plain": [
       "56"
      ]
     },
     "execution_count": 208,
     "metadata": {},
     "output_type": "execute_result"
    }
   ],
   "source": [
    "walk.max()"
   ]
  },
  {
   "cell_type": "code",
   "execution_count": 212,
   "metadata": {},
   "outputs": [
    {
     "data": {
      "text/plain": [
       "[<matplotlib.lines.Line2D at 0x237bd2eb808>]"
      ]
     },
     "execution_count": 212,
     "metadata": {},
     "output_type": "execute_result"
    },
    {
     "data": {
      "image/png": "[encoded data removed]",
      "text/plain": [
       "<Figure size 432x288 with 1 Axes>"
      ]
     },
     "metadata": {
      "needs_background": "light"
     },
     "output_type": "display_data"
    }
   ],
   "source": [
    "plt.plot(walk[:30])"
   ]
  },
  {
   "cell_type": "code",
   "execution_count": 210,
   "metadata": {
    "scrolled": true
   },
   "outputs": [
    {
     "data": {
      "text/plain": [
       "array([ -1,  -2,  -1,  -2,  -3,  -4,  -5,  -6,  -7,  -8,  -9, -10,  -9,\n",
       "       -10,  -9,  -8,  -9, -10,  -9, -10, -11, -10, -11, -10, -11, -12,\n",
       "       -13, -12, -11, -10, -11, -10,  -9, -10,  -9, -10,  -9, -10,  -9,\n",
       "        -8,  -7,  -6,  -7,  -6,  -7,  -6,  -5,  -6,  -7,  -6,  -7,  -8,\n",
       "        -7,  -6,  -5,  -6,  -7,  -8,  -7,  -6,  -5,  -4,  -3,  -2,  -1,\n",
       "        -2,  -1,  -2,  -1,  -2,  -1,  -2,  -3,  -4,  -5,  -6,  -7,  -8,\n",
       "        -9,  -8,  -7,  -6,  -7,  -6,  -7,  -8,  -7,  -6,  -7,  -6,  -7,\n",
       "        -6,  -5,  -6,  -5,  -6,  -7,  -8,  -7,  -6,  -7,  -8,  -9, -10,\n",
       "       -11, -10,  -9,  -8,  -7,  -8,  -7,  -8,  -7,  -8,  -7,  -8,  -7,\n",
       "        -8,  -7,  -8,  -7,  -8,  -7,  -8,  -7,  -6,  -5,  -4,  -5,  -4,\n",
       "        -3,  -2,  -3,  -4,  -5,  -4,  -5,  -4,  -5,  -4,  -3,  -4,  -3,\n",
       "        -4,  -5,  -4,  -3,  -2,  -1,  -2,  -3,  -4,  -3,  -4,  -5,  -6,\n",
       "        -7,  -8,  -9, -10,  -9, -10, -11, -10,  -9, -10, -11, -12, -11,\n",
       "       -12, -13, -12, -11, -12, -13, -12, -11, -12, -13, -12, -11, -12,\n",
       "       -13, -12, -11, -12, -11, -12, -13, -12, -11, -10, -11, -12, -11,\n",
       "       -10,  -9, -10, -11, -12, -11, -10, -11, -12, -11, -10,  -9, -10,\n",
       "        -9,  -8,  -7,  -6,  -5,  -4,  -5,  -6,  -5,  -6,  -5,  -4,  -5,\n",
       "        -4,  -3,  -4,  -5,  -6,  -5,  -6,  -5,  -6,  -7,  -8,  -9, -10,\n",
       "        -9,  -8,  -7,  -6,  -5,  -6,  -5,  -4,  -3,  -2,  -3,  -2,  -1,\n",
       "         0,   1,   2,   1,   2,   3,   2,   3,   2,   1,   0,  -1,   0,\n",
       "         1,   2,   3,   4,   3,   4,   3,   2,   1,   2,   3,   4,   3,\n",
       "         2,   3,   4,   5,   4,   3,   4,   3,   2,   3,   4,   5,   6,\n",
       "         7,   6,   7,   8,   7,   6,   7,   6,   5,   6,   7,   6,   7,\n",
       "         8,   7,   8,   9,   8,   7,   8,   9,   8,   9,  10,   9,  10,\n",
       "        11,  12,  11,  10,   9,  10,  11,  12,  11,  12,  13,  12,  11,\n",
       "        10,  11,  10,   9,  10,  11,  10,   9,   8,   9,  10,  11,  10,\n",
       "        11,  12,  11,  12,  11,  12,  13,  12,  13,  14,  15,  14,  13,\n",
       "        14,  13,  14,  15,  16,  17,  18,  19,  20,  19,  18,  17,  16,\n",
       "        17,  18,  17,  18,  19,  18,  17,  18,  17,  18,  19,  18,  17,\n",
       "        16,  17,  18,  19,  20,  21,  20,  19,  18,  17,  16,  17,  16,\n",
       "        17,  16,  15,  16,  15,  16,  15,  14,  15,  14,  13,  12,  11,\n",
       "        10,   9,  10,  11,  10,   9,   8,   9,  10,   9,  10,   9,   8,\n",
       "         7,   6,   7,   8,   7,   6,   5,   6,   5,   6,   5,   6,   7,\n",
       "         8,   9,   8,   9,  10,  11,  10,   9,  10,   9,  10,   9,  10,\n",
       "        11,  10,  11,  12,  11,  10,   9,   8,   9,  10,  11,  12,  11,\n",
       "        12,  11,  12,  11,  10,  11,  10,  11,  10,  11,  12,  13,  12,\n",
       "        11,  12,  13,  14,  13,  14,  15,  16,  15,  16,  15,  16,  17,\n",
       "        18,  17,  16,  15,  14,  13,  14,  13,  12,  11,  10,  11,  10,\n",
       "        11,  10,   9,  10,  11,  10,   9,  10,   9,  10,   9,   8,   7,\n",
       "         8,   7,   6,   7,   6,   7,   6,   5,   6,   7,   8,   7,   6,\n",
       "         5,   4,   5,   4,   3,   4,   5,   4,   5,   6,   5,   6,   7,\n",
       "         6,   5,   6,   5,   6,   7,   8,   9,   8,   7,   6,   5,   6,\n",
       "         7,   6,   7,   8,   9,   8,   7,   8,   7,   8,   9,   8,   7,\n",
       "         6,   7,   6,   7,   6,   5,   4,   5,   6,   5,   4,   5,   4,\n",
       "         5,   4,   5,   6,   5,   6,   5,   4,   3,   2,   1,   0,   1,\n",
       "         2,   1,   2,   3,   4,   3,   4,   5,   4,   3,   4,   3,   4,\n",
       "         5,   6,   5,   4,   5,   6,   7,   8,   7,   6,   7,   6,   7,\n",
       "         8,   9,   8,   7,   8,   9,   8,   7,   8,   9,  10,  11,  12,\n",
       "        13,  14,  13,  14,  15,  14,  13,  12,  13,  14,  15,  16,  17,\n",
       "        16,  15,  16,  17,  18,  19,  18,  19,  20,  21,  20,  19,  20,\n",
       "        19,  18,  17,  16,  17,  18,  17,  18,  19,  18,  17,  16,  15,\n",
       "        14,  15,  16,  17,  18,  17,  18,  17,  18,  19,  20,  21,  20,\n",
       "        21,  20,  21,  20,  19,  20,  21,  22,  21,  22,  23,  22,  23,\n",
       "        24,  25,  24,  23,  24,  25,  26,  25,  26,  25,  24,  25,  26,\n",
       "        27,  28,  27,  26,  25,  26,  25,  26,  25,  26,  27,  28,  29,\n",
       "        30,  29,  30,  31,  30,  29,  28,  27,  26,  27,  28,  29,  30,\n",
       "        31,  32,  31,  32,  33,  34,  35,  34,  33,  34,  35,  34,  35,\n",
       "        34,  33,  32,  33,  34,  35,  36,  35,  34,  33,  32,  31,  32,\n",
       "        31,  32,  31,  32,  33,  32,  33,  34,  33,  32,  33,  32,  33,\n",
       "        34,  35,  36,  37,  38,  39,  40,  41,  42,  43,  44,  43,  44,\n",
       "        43,  44,  45,  46,  45,  44,  45,  44,  43,  42,  41,  42,  41,\n",
       "        42,  41,  42,  41,  40,  39,  38,  39,  38,  39,  38,  39,  40,\n",
       "        41,  40,  39,  38,  39,  38,  37,  36,  37,  38,  37,  38,  37,\n",
       "        38,  39,  40,  39,  40,  41,  42,  43,  42,  43,  44,  45,  46,\n",
       "        47,  46,  47,  48,  47,  48,  49,  48,  49,  48,  47,  48,  47,\n",
       "        48,  49,  50,  51,  52,  51,  50,  49,  50,  51,  50,  51,  50,\n",
       "        51,  50,  51,  52,  53,  52,  53,  54,  53,  52,  53,  52,  53,\n",
       "        52,  53,  54,  55,  54,  53,  54,  55,  54,  55,  54,  55,  54,\n",
       "        55,  54,  55,  56,  55,  54,  53,  52,  53,  52,  51,  52,  51,\n",
       "        50,  49,  50,  51,  52,  53,  54,  53,  54,  53,  52,  51,  50,\n",
       "        49,  50,  51,  52,  53,  52,  51,  52,  51,  52,  51,  50,  51,\n",
       "        50,  49,  48,  47,  48,  49,  48,  47,  48,  47,  48,  47,  46,\n",
       "        45,  44,  45,  44,  45,  44,  45,  46,  47,  48,  49,  50,  51,\n",
       "        50,  51,  52,  51,  50,  51,  50,  49,  48,  47,  48,  47,  48,\n",
       "        49,  50,  51,  52,  51,  50,  51,  50,  49,  48,  49,  48,  47,\n",
       "        48,  47,  48,  49,  50,  51,  50,  49,  48,  49,  48,  47,  46,\n",
       "        47,  48,  49,  48,  49,  50,  51,  52,  53,  52,  51,  50],\n",
       "      dtype=int32)"
      ]
     },
     "execution_count": 210,
     "metadata": {},
     "output_type": "execute_result"
    }
   ],
   "source": [
    "walk"
   ]
  },
  {
   "cell_type": "code",
   "execution_count": 211,
   "metadata": {},
   "outputs": [
    {
     "data": {
      "text/plain": [
       "20"
      ]
     },
     "execution_count": 211,
     "metadata": {},
     "output_type": "execute_result"
    }
   ],
   "source": [
    "(np.abs(walk)>10).argmax()"
   ]
  },
  {
   "cell_type": "code",
   "execution_count": 213,
   "metadata": {},
   "outputs": [
    {
     "data": {
      "text/plain": [
       "887"
      ]
     },
     "execution_count": 213,
     "metadata": {},
     "output_type": "execute_result"
    }
   ],
   "source": [
    "walk.argmax()"
   ]
  },
  {
   "cell_type": "code",
   "execution_count": 214,
   "metadata": {},
   "outputs": [
    {
     "data": {
      "text/plain": [
       "56"
      ]
     },
     "execution_count": 214,
     "metadata": {},
     "output_type": "execute_result"
    }
   ],
   "source": [
    "walk[887]"
   ]
  },
  {
   "cell_type": "code",
   "execution_count": 217,
   "metadata": {},
   "outputs": [],
   "source": [
    "np.cumsum?"
   ]
  },
  {
   "cell_type": "code",
   "execution_count": 216,
   "metadata": {},
   "outputs": [],
   "source": [
    "walk.cumsum?"
   ]
  },
  {
   "cell_type": "code",
   "execution_count": 218,
   "metadata": {},
   "outputs": [],
   "source": [
    "np.random.randint?"
   ]
  },
  {
   "cell_type": "code",
   "execution_count": 219,
   "metadata": {},
   "outputs": [],
   "source": [
    "random.randint?"
   ]
  },
  {
   "cell_type": "code",
   "execution_count": 225,
   "metadata": {},
   "outputs": [
    {
     "data": {
      "text/plain": [
       "array([[  1,   2,   1, ...,   8,   7,   6],\n",
       "       [ -1,   0,   1, ..., -72, -73, -74],\n",
       "       [  1,   0,  -1, ...,  -6,  -7,  -8],\n",
       "       ...,\n",
       "       [  1,   0,   1, ..., -68, -67, -66],\n",
       "       [ -1,   0,  -1, ...,  16,  15,  16],\n",
       "       [  1,   2,   1, ...,  26,  27,  28]], dtype=int32)"
      ]
     },
     "execution_count": 225,
     "metadata": {},
     "output_type": "execute_result"
    }
   ],
   "source": [
    "nrows = 5000\n",
    "ncolumns = 1000\n",
    "walks = np.random.randint(0,2,size=(nrows,ncolumns))\n",
    "steps = np.where(walks>0,1,-1)\n",
    "result = steps.cumsum(1)\n",
    "result"
   ]
  },
  {
   "cell_type": "code",
   "execution_count": 231,
   "metadata": {
    "scrolled": true
   },
   "outputs": [
    {
     "data": {
      "text/plain": [
       "array([32,  2,  7, ...,  3, 26, 29], dtype=int32)"
      ]
     },
     "execution_count": 231,
     "metadata": {},
     "output_type": "execute_result"
    }
   ],
   "source": [
    "result.max(1)"
   ]
  },
  {
   "cell_type": "code",
   "execution_count": 239,
   "metadata": {},
   "outputs": [],
   "source": [
    "hit30 = (np.abs(result)>30).any(1)"
   ]
  },
  {
   "cell_type": "code",
   "execution_count": 234,
   "metadata": {},
   "outputs": [
    {
     "data": {
      "text/plain": [
       "array([[False, False, False, ..., False, False, False],\n",
       "       [False, False, False, ...,  True,  True,  True],\n",
       "       [False, False, False, ..., False, False, False],\n",
       "       ...,\n",
       "       [False, False, False, ...,  True,  True,  True],\n",
       "       [False, False, False, ..., False, False, False],\n",
       "       [False, False, False, ..., False, False, False]])"
      ]
     },
     "execution_count": 234,
     "metadata": {},
     "output_type": "execute_result"
    }
   ],
   "source": [
    "np.abs(result)>30"
   ]
  },
  {
   "cell_type": "code",
   "execution_count": 244,
   "metadata": {},
   "outputs": [
    {
     "data": {
      "text/plain": [
       "490.0532507739938"
      ]
     },
     "execution_count": 244,
     "metadata": {},
     "output_type": "execute_result"
    }
   ],
   "source": [
    "(np.abs(result[hit30])>=30).argmax(1).mean()"
   ]
  },
  {
   "cell_type": "code",
   "execution_count": 245,
   "metadata": {},
   "outputs": [
    {
     "data": {
      "text/plain": [
       "array([ -1,  -2,  -1,  -2,  -3,  -4,  -5,  -6,  -7,  -8,  -9, -10,  -9,\n",
       "       -10,  -9,  -8,  -9, -10,  -9, -10, -11, -10, -11, -10, -11, -12,\n",
       "       -13, -12, -11, -10, -11, -10,  -9, -10,  -9, -10,  -9, -10,  -9,\n",
       "        -8,  -7,  -6,  -7,  -6,  -7,  -6,  -5,  -6,  -7,  -6,  -7,  -8,\n",
       "        -7,  -6,  -5,  -6,  -7,  -8,  -7,  -6,  -5,  -4,  -3,  -2,  -1,\n",
       "        -2,  -1,  -2,  -1,  -2,  -1,  -2,  -3,  -4,  -5,  -6,  -7,  -8,\n",
       "        -9,  -8,  -7,  -6,  -7,  -6,  -7,  -8,  -7,  -6,  -7,  -6,  -7,\n",
       "        -6,  -5,  -6,  -5,  -6,  -7,  -8,  -7,  -6,  -7,  -8,  -9, -10,\n",
       "       -11, -10,  -9,  -8,  -7,  -8,  -7,  -8,  -7,  -8,  -7,  -8,  -7,\n",
       "        -8,  -7,  -8,  -7,  -8,  -7,  -8,  -7,  -6,  -5,  -4,  -5,  -4,\n",
       "        -3,  -2,  -3,  -4,  -5,  -4,  -5,  -4,  -5,  -4,  -3,  -4,  -3,\n",
       "        -4,  -5,  -4,  -3,  -2,  -1,  -2,  -3,  -4,  -3,  -4,  -5,  -6,\n",
       "        -7,  -8,  -9, -10,  -9, -10, -11, -10,  -9, -10, -11, -12, -11,\n",
       "       -12, -13, -12, -11, -12, -13, -12, -11, -12, -13, -12, -11, -12,\n",
       "       -13, -12, -11, -12, -11, -12, -13, -12, -11, -10, -11, -12, -11,\n",
       "       -10,  -9, -10, -11, -12, -11, -10, -11, -12, -11, -10,  -9, -10,\n",
       "        -9,  -8,  -7,  -6,  -5,  -4,  -5,  -6,  -5,  -6,  -5,  -4,  -5,\n",
       "        -4,  -3,  -4,  -5,  -6,  -5,  -6,  -5,  -6,  -7,  -8,  -9, -10,\n",
       "        -9,  -8,  -7,  -6,  -5,  -6,  -5,  -4,  -3,  -2,  -3,  -2,  -1,\n",
       "         0,   1,   2,   1,   2,   3,   2,   3,   2,   1,   0,  -1,   0,\n",
       "         1,   2,   3,   4,   3,   4,   3,   2,   1,   2,   3,   4,   3,\n",
       "         2,   3,   4,   5,   4,   3,   4,   3,   2,   3,   4,   5,   6,\n",
       "         7,   6,   7,   8,   7,   6,   7,   6,   5,   6,   7,   6,   7,\n",
       "         8,   7,   8,   9,   8,   7,   8,   9,   8,   9,  10,   9,  10,\n",
       "        11,  12,  11,  10,   9,  10,  11,  12,  11,  12,  13,  12,  11,\n",
       "        10,  11,  10,   9,  10,  11,  10,   9,   8,   9,  10,  11,  10,\n",
       "        11,  12,  11,  12,  11,  12,  13,  12,  13,  14,  15,  14,  13,\n",
       "        14,  13,  14,  15,  16,  17,  18,  19,  20,  19,  18,  17,  16,\n",
       "        17,  18,  17,  18,  19,  18,  17,  18,  17,  18,  19,  18,  17,\n",
       "        16,  17,  18,  19,  20,  21,  20,  19,  18,  17,  16,  17,  16,\n",
       "        17,  16,  15,  16,  15,  16,  15,  14,  15,  14,  13,  12,  11,\n",
       "        10,   9,  10,  11,  10,   9,   8,   9,  10,   9,  10,   9,   8,\n",
       "         7,   6,   7,   8,   7,   6,   5,   6,   5,   6,   5,   6,   7,\n",
       "         8,   9,   8,   9,  10,  11,  10,   9,  10,   9,  10,   9,  10,\n",
       "        11,  10,  11,  12,  11,  10,   9,   8,   9,  10,  11,  12,  11,\n",
       "        12,  11,  12,  11,  10,  11,  10,  11,  10,  11,  12,  13,  12,\n",
       "        11,  12,  13,  14,  13,  14,  15,  16,  15,  16,  15,  16,  17,\n",
       "        18,  17,  16,  15,  14,  13,  14,  13,  12,  11,  10,  11,  10,\n",
       "        11,  10,   9,  10,  11,  10,   9,  10,   9,  10,   9,   8,   7,\n",
       "         8,   7,   6,   7,   6,   7,   6,   5,   6,   7,   8,   7,   6,\n",
       "         5,   4,   5,   4,   3,   4,   5,   4,   5,   6,   5,   6,   7,\n",
       "         6,   5,   6,   5,   6,   7,   8,   9,   8,   7,   6,   5,   6,\n",
       "         7,   6,   7,   8,   9,   8,   7,   8,   7,   8,   9,   8,   7,\n",
       "         6,   7,   6,   7,   6,   5,   4,   5,   6,   5,   4,   5,   4,\n",
       "         5,   4,   5,   6,   5,   6,   5,   4,   3,   2,   1,   0,   1,\n",
       "         2,   1,   2,   3,   4,   3,   4,   5,   4,   3,   4,   3,   4,\n",
       "         5,   6,   5,   4,   5,   6,   7,   8,   7,   6,   7,   6,   7,\n",
       "         8,   9,   8,   7,   8,   9,   8,   7,   8,   9,  10,  11,  12,\n",
       "        13,  14,  13,  14,  15,  14,  13,  12,  13,  14,  15,  16,  17,\n",
       "        16,  15,  16,  17,  18,  19,  18,  19,  20,  21,  20,  19,  20,\n",
       "        19,  18,  17,  16,  17,  18,  17,  18,  19,  18,  17,  16,  15,\n",
       "        14,  15,  16,  17,  18,  17,  18,  17,  18,  19,  20,  21,  20,\n",
       "        21,  20,  21,  20,  19,  20,  21,  22,  21,  22,  23,  22,  23,\n",
       "        24,  25,  24,  23,  24,  25,  26,  25,  26,  25,  24,  25,  26,\n",
       "        27,  28,  27,  26,  25,  26,  25,  26,  25,  26,  27,  28,  29,\n",
       "        30,  29,  30,  31,  30,  29,  28,  27,  26,  27,  28,  29,  30,\n",
       "        31,  32,  31,  32,  33,  34,  35,  34,  33,  34,  35,  34,  35,\n",
       "        34,  33,  32,  33,  34,  35,  36,  35,  34,  33,  32,  31,  32,\n",
       "        31,  32,  31,  32,  33,  32,  33,  34,  33,  32,  33,  32,  33,\n",
       "        34,  35,  36,  37,  38,  39,  40,  41,  42,  43,  44,  43,  44,\n",
       "        43,  44,  45,  46,  45,  44,  45,  44,  43,  42,  41,  42,  41,\n",
       "        42,  41,  42,  41,  40,  39,  38,  39,  38,  39,  38,  39,  40,\n",
       "        41,  40,  39,  38,  39,  38,  37,  36,  37,  38,  37,  38,  37,\n",
       "        38,  39,  40,  39,  40,  41,  42,  43,  42,  43,  44,  45,  46,\n",
       "        47,  46,  47,  48,  47,  48,  49,  48,  49,  48,  47,  48,  47,\n",
       "        48,  49,  50,  51,  52,  51,  50,  49,  50,  51,  50,  51,  50,\n",
       "        51,  50,  51,  52,  53,  52,  53,  54,  53,  52,  53,  52,  53,\n",
       "        52,  53,  54,  55,  54,  53,  54,  55,  54,  55,  54,  55,  54,\n",
       "        55,  54,  55,  56,  55,  54,  53,  52,  53,  52,  51,  52,  51,\n",
       "        50,  49,  50,  51,  52,  53,  54,  53,  54,  53,  52,  51,  50,\n",
       "        49,  50,  51,  52,  53,  52,  51,  52,  51,  52,  51,  50,  51,\n",
       "        50,  49,  48,  47,  48,  49,  48,  47,  48,  47,  48,  47,  46,\n",
       "        45,  44,  45,  44,  45,  44,  45,  46,  47,  48,  49,  50,  51,\n",
       "        50,  51,  52,  51,  50,  51,  50,  49,  48,  47,  48,  47,  48,\n",
       "        49,  50,  51,  52,  51,  50,  51,  50,  49,  48,  49,  48,  47,\n",
       "        48,  47,  48,  49,  50,  51,  50,  49,  48,  49,  48,  47,  46,\n",
       "        47,  48,  49,  48,  49,  50,  51,  52,  53,  52,  51,  50],\n",
       "      dtype=int32)"
      ]
     },
     "execution_count": 245,
     "metadata": {},
     "output_type": "execute_result"
    }
   ],
   "source": [
    "walk"
   ]
  },
  {
   "cell_type": "code",
   "execution_count": 247,
   "metadata": {},
   "outputs": [
    {
     "data": {
      "text/plain": [
       "array([-13, -12, -11, -10,  -9,  -8,  -7,  -6,  -5,  -4,  -3,  -2,  -1,\n",
       "         0,   1,   2,   3,   4,   5,   6,   7,   8,   9,  10,  11,  12,\n",
       "        13,  14,  15,  16,  17,  18,  19,  20,  21,  22,  23,  24,  25,\n",
       "        26,  27,  28,  29,  30,  31,  32,  33,  34,  35,  36,  37,  38,\n",
       "        39,  40,  41,  42,  43,  44,  45,  46,  47,  48,  49,  50,  51,\n",
       "        52,  53,  54,  55,  56], dtype=int32)"
      ]
     },
     "execution_count": 247,
     "metadata": {},
     "output_type": "execute_result"
    }
   ],
   "source": [
    "np.unique(walk)"
   ]
  },
  {
   "cell_type": "code",
   "execution_count": null,
   "metadata": {},
   "outputs": [],
   "source": []
  }
 ],
 "metadata": {
  "kernelspec": {
   "display_name": "Python 3",
   "language": "python",
   "name": "python3"
  },
  "language_info": {
   "codemirror_mode": {
    "name": "ipython",
    "version": 3
   },
   "file_extension": ".py",
   "mimetype": "text/x-python",
   "name": "python",
   "nbconvert_exporter": "python",
   "pygments_lexer": "ipython3",
   "version": "3.8.5"
  },
  "toc": {
   "base_numbering": 1,
   "nav_menu": {
    "height": "391px",
    "width": "270px"
   },
   "number_sections": false,
   "sideBar": true,
   "skip_h1_title": false,
   "title_cell": "Table of Contents",
   "title_sidebar": "Contents",
   "toc_cell": false,
   "toc_position": {
    "height": "calc(100% - 180px)",
    "left": "10px",
    "top": "150px",
    "width": "237px"
   },
   "toc_section_display": true,
   "toc_window_display": true
  },
  "widgets": {
   "application/vnd.jupyter.widget-state+json": {
    "state": {},
    "version_major": 2,
    "version_minor": 0
   }
  }
 },
 "nbformat": 4,
 "nbformat_minor": 4
}
